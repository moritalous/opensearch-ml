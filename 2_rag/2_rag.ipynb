{
 "cells": [
  {
   "cell_type": "markdown",
   "metadata": {},
   "source": [
    "# RAG"
   ]
  },
  {
   "cell_type": "markdown",
   "metadata": {},
   "source": [
    "ML環境構築\n",
    "\n",
    "1. Amazon BedrockとのMLコネクターを作成\n",
    "1. モデルグループを作成\n",
    "1. モデルを作成\n",
    "1. モデルをデプロイ\n",
    "1. Searchパイプラインを作成\n",
    "\n",
    "インデックス作成\n",
    "\n",
    "1. インデックスを作成\n",
    "1. データを登録\n",
    "\n",
    "検索\n",
    "\n",
    "1. RAG検索\n"
   ]
  },
  {
   "cell_type": "markdown",
   "metadata": {},
   "source": [
    "---\n",
    "## OpenSearch 起動・停止"
   ]
  },
  {
   "cell_type": "markdown",
   "metadata": {},
   "source": [
    "* 起動"
   ]
  },
  {
   "cell_type": "code",
   "execution_count": 2,
   "metadata": {},
   "outputs": [
    {
     "name": "stderr",
     "output_type": "stream",
     "text": [
      " Network 0_opensearch-docker_opensearch-net  Creating\n",
      " Network 0_opensearch-docker_opensearch-net  Created\n",
      " Container opensearch-dashboards  Creating\n",
      " Container opensearch-node1  Creating\n",
      " Container opensearch-dashboards  Created\n",
      " Container opensearch-node1  Created\n",
      " Container opensearch-node1  Starting\n",
      " Container opensearch-dashboards  Starting\n",
      " Container opensearch-node1  Started\n",
      " Container opensearch-dashboards  Started\n"
     ]
    }
   ],
   "source": [
    "%%bash\n",
    "docker compose -f \"../0_opensearch-docker/docker-compose.yml\" up -d\n"
   ]
  },
  {
   "cell_type": "markdown",
   "metadata": {},
   "source": [
    "* 停止"
   ]
  },
  {
   "cell_type": "code",
   "execution_count": null,
   "metadata": {},
   "outputs": [],
   "source": [
    "%%bash\n",
    "docker compose -f \"../0_opensearch-docker/docker-compose.yml\" down\n",
    "# docker compose -f \"../0_opensearch-docker/docker-compose.yml\" down -v\n"
   ]
  },
  {
   "cell_type": "markdown",
   "metadata": {},
   "source": [
    "---\n",
    "## 事前準備\n"
   ]
  },
  {
   "cell_type": "code",
   "execution_count": 3,
   "metadata": {},
   "outputs": [
    {
     "name": "stdout",
     "output_type": "stream",
     "text": [
      "Note: you may need to restart the kernel to use updated packages.\n"
     ]
    }
   ],
   "source": [
    "%pip install -Uq requests python-dotenv\n"
   ]
  },
  {
   "cell_type": "code",
   "execution_count": 4,
   "metadata": {},
   "outputs": [],
   "source": [
    "import os\n",
    "import requests\n"
   ]
  },
  {
   "cell_type": "code",
   "execution_count": 5,
   "metadata": {},
   "outputs": [
    {
     "data": {
      "text/plain": [
       "True"
      ]
     },
     "execution_count": 5,
     "metadata": {},
     "output_type": "execute_result"
    }
   ],
   "source": [
    "from dotenv import load_dotenv\n",
    "\n",
    "load_dotenv(override=True)\n"
   ]
  },
  {
   "cell_type": "code",
   "execution_count": 6,
   "metadata": {},
   "outputs": [],
   "source": [
    "host = 'localhost'\n",
    "port = 9200\n"
   ]
  },
  {
   "cell_type": "markdown",
   "metadata": {},
   "source": [
    "---\n",
    "## 1. Amazon BedrockとのMLコネクターを作成\n"
   ]
  },
  {
   "cell_type": "code",
   "execution_count": 7,
   "metadata": {},
   "outputs": [
    {
     "data": {
      "text/plain": [
       "{'connector_id': '-TWfw4sBcYKsbL--Z6qv'}"
      ]
     },
     "execution_count": 7,
     "metadata": {},
     "output_type": "execute_result"
    }
   ],
   "source": [
    "body = {\n",
    "    \"name\": \"Amazon Bedrock(anthropic.claude-instant-v1)\",\n",
    "    \"description\": \"Test connector for Amazon Bedrock\",\n",
    "    \"version\": 1,\n",
    "    \"protocol\": \"aws_sigv4\",\n",
    "    \"credential\": {\n",
    "      \"access_key\": os.getenv('AWS_ACCESS_KEY_ID'),\n",
    "      \"secret_key\": os.getenv('AWS_SECRET_ACCESS_KEY')\n",
    "    },\n",
    "    \"parameters\": {\n",
    "      \"region\": os.getenv('AWS_DEFAULT_REGION'),\n",
    "      \"service_name\": \"bedrock\"\n",
    "    },\n",
    "    \"actions\": [\n",
    "      {\n",
    "        \"action_type\": \"predict\",\n",
    "        \"method\": \"POST\",\n",
    "        \"headers\": {\n",
    "          \"content-type\": \"application/json\"\n",
    "        },\n",
    "            \"url\": \"https://bedrock-runtime.us-east-1.amazonaws.com/model/anthropic.claude-instant-v1/invoke\",\n",
    "            \"request_body\": \"{\\\"prompt\\\":\\\"\\\\n\\\\nHuman: ${parameters.inputs}\\\\n\\\\nAssistant:\\\",\\\"max_tokens_to_sample\\\":2000,\\\"temperature\\\":0.5,\\\"top_k\\\":250,\\\"top_p\\\":1,\\\"stop_sequences\\\":[\\\"\\\\\\\\n\\\\\\\\nHuman:\\\"]}\"\n",
    "      }\n",
    "    ]\n",
    "}\n",
    "\n",
    "response = requests.post(\n",
    "  f'http://{host}:{port}/_plugins/_ml/connectors/_create', \n",
    "  json=body\n",
    "  )\n",
    "\n",
    "response.json()\n"
   ]
  },
  {
   "cell_type": "code",
   "execution_count": 8,
   "metadata": {},
   "outputs": [
    {
     "data": {
      "text/plain": [
       "'-TWfw4sBcYKsbL--Z6qv'"
      ]
     },
     "execution_count": 8,
     "metadata": {},
     "output_type": "execute_result"
    }
   ],
   "source": [
    "connector_id = response.json()[\"connector_id\"]\n",
    "connector_id\n"
   ]
  },
  {
   "cell_type": "markdown",
   "metadata": {},
   "source": [
    "---\n",
    "## 2. モデルグループを作成\n"
   ]
  },
  {
   "cell_type": "code",
   "execution_count": 9,
   "metadata": {},
   "outputs": [
    {
     "data": {
      "text/plain": [
       "{'model_group_id': '-jWgw4sBcYKsbL--AKrR', 'status': 'CREATED'}"
      ]
     },
     "execution_count": 9,
     "metadata": {},
     "output_type": "execute_result"
    }
   ],
   "source": [
    "model_group_name = \"bedrock-claude-instant-model-group\"\n",
    "\n",
    "body = {\n",
    "    \"name\": model_group_name\n",
    "}\n",
    "\n",
    "response = requests.post(\n",
    "  f'http://{host}:{port}/_plugins/_ml/model_groups/_register', \n",
    "  json=body\n",
    "  )\n",
    "\n",
    "response.json()\n"
   ]
  },
  {
   "cell_type": "code",
   "execution_count": 10,
   "metadata": {},
   "outputs": [
    {
     "data": {
      "text/plain": [
       "'-jWgw4sBcYKsbL--AKrR'"
      ]
     },
     "execution_count": 10,
     "metadata": {},
     "output_type": "execute_result"
    }
   ],
   "source": [
    "model_group_id = response.json()[\"model_group_id\"]\n",
    "model_group_id\n"
   ]
  },
  {
   "cell_type": "markdown",
   "metadata": {},
   "source": [
    "---\n",
    "## 3. モデルを作成\n"
   ]
  },
  {
   "cell_type": "code",
   "execution_count": 11,
   "metadata": {},
   "outputs": [
    {
     "data": {
      "text/plain": [
       "{'task_id': '-zWgw4sBcYKsbL--jqpy',\n",
       " 'status': 'CREATED',\n",
       " 'model_id': '_DWgw4sBcYKsbL--j6qL'}"
      ]
     },
     "execution_count": 11,
     "metadata": {},
     "output_type": "execute_result"
    }
   ],
   "source": [
    "model_name = \"bedrock-claude-instant-model\"\n",
    "\n",
    "body = {\n",
    "    \"name\": model_name,\n",
    "    \"function_name\": \"remote\",\n",
    "    \"model_group_id\": model_group_id,\n",
    "    \"connector_id\": connector_id\n",
    "}\n",
    "\n",
    "response = requests.post(\n",
    "  f'http://{host}:{port}/_plugins/_ml/models/_register', \n",
    "  json=body\n",
    "  )\n",
    "\n",
    "response.json()\n"
   ]
  },
  {
   "cell_type": "code",
   "execution_count": 12,
   "metadata": {},
   "outputs": [
    {
     "data": {
      "text/plain": [
       "'_DWgw4sBcYKsbL--j6qL'"
      ]
     },
     "execution_count": 12,
     "metadata": {},
     "output_type": "execute_result"
    }
   ],
   "source": [
    "model_id = response.json()[\"model_id\"]\n",
    "model_id\n"
   ]
  },
  {
   "cell_type": "markdown",
   "metadata": {},
   "source": [
    "---\n",
    "## 4. モデルをデプロイ\n"
   ]
  },
  {
   "cell_type": "code",
   "execution_count": 13,
   "metadata": {},
   "outputs": [
    {
     "data": {
      "text/plain": [
       "{'task_id': '_TWgw4sBcYKsbL--6Kpo',\n",
       " 'task_type': 'DEPLOY_MODEL',\n",
       " 'status': 'COMPLETED'}"
      ]
     },
     "execution_count": 13,
     "metadata": {},
     "output_type": "execute_result"
    }
   ],
   "source": [
    "response = requests.post(\n",
    "  f'http://{host}:{port}/_plugins/_ml/models/{model_id}/_deploy', \n",
    "  )\n",
    "\n",
    "response.json()\n"
   ]
  },
  {
   "cell_type": "markdown",
   "metadata": {},
   "source": [
    "---\n",
    "## 5. RAGフィーチャーフラグを有効化\n",
    " "
   ]
  },
  {
   "cell_type": "code",
   "execution_count": 14,
   "metadata": {},
   "outputs": [
    {
     "data": {
      "text/plain": [
       "{'acknowledged': True,\n",
       " 'persistent': {'plugins': {'ml_commons': {'rag_pipeline_feature_enabled': 'true'}}},\n",
       " 'transient': {}}"
      ]
     },
     "execution_count": 14,
     "metadata": {},
     "output_type": "execute_result"
    }
   ],
   "source": [
    "body = {\n",
    "  \"persistent\": {\n",
    "    \"plugins.ml_commons.rag_pipeline_feature_enabled\": \"true\"\n",
    "    }\n",
    "}\n",
    "\n",
    "response = requests.put(\n",
    "  f'http://{host}:{port}/_cluster/settings', \n",
    "  json=body\n",
    "  )\n",
    "\n",
    "response.json()\n"
   ]
  },
  {
   "cell_type": "markdown",
   "metadata": {},
   "source": [
    "---\n",
    "## 6. Searchパイプラインを作成\n"
   ]
  },
  {
   "cell_type": "code",
   "execution_count": 15,
   "metadata": {},
   "outputs": [
    {
     "data": {
      "text/plain": [
       "{'acknowledged': True}"
      ]
     },
     "execution_count": 15,
     "metadata": {},
     "output_type": "execute_result"
    }
   ],
   "source": [
    "search_pipeline_name = 'rag-search-pipeline'\n",
    "\n",
    "body = {\n",
    "  \"response_processors\": [\n",
    "    {\n",
    "      \"retrieval_augmented_generation\": {\n",
    "        \"model_id\": model_id,\n",
    "        \"context_field_list\": [\"answer\"],\n",
    "        \"system_prompt\": \"You are a helpful assistant\",\n",
    "        \"user_instructions\": \"Generate a concise and informative answer in less than 100 words for the given question\"\n",
    "      }\n",
    "    }\n",
    "  ]\n",
    "}\n",
    "\n",
    "response = requests.put(\n",
    "  f'http://{host}:{port}/_search/pipeline/{search_pipeline_name}', \n",
    "  json=body\n",
    "  )\n",
    "\n",
    "response.json()\n"
   ]
  },
  {
   "cell_type": "markdown",
   "metadata": {},
   "source": [
    "---\n",
    "## 1. インデックスを作成\n"
   ]
  },
  {
   "cell_type": "code",
   "execution_count": 17,
   "metadata": {},
   "outputs": [],
   "source": [
    "index_name = 'rag-index'\n"
   ]
  },
  {
   "cell_type": "code",
   "execution_count": 18,
   "metadata": {},
   "outputs": [
    {
     "data": {
      "text/plain": [
       "{'acknowledged': True, 'shards_acknowledged': True, 'index': 'rag-index'}"
      ]
     },
     "execution_count": 18,
     "metadata": {},
     "output_type": "execute_result"
    }
   ],
   "source": [
    "body = {\n",
    "  \"settings\": {\n",
    "    \"index\": {\n",
    "      \"analysis\": {\n",
    "        \"analyzer\": {\n",
    "          \"custom_kuromoji_analyzer\": {\n",
    "            \"tokenizer\": \"kuromoji_tokenizer\",\n",
    "            \"filter\": [\"kuromoji_baseform\", \"ja_stop\"],\n",
    "            \"char_filter\": [\"icu_normalizer\"]\n",
    "          }\n",
    "        }\n",
    "      }\n",
    "    }\n",
    "  }, \n",
    "  \"mappings\": {\n",
    "    \"properties\": {\n",
    "      \"question\": {\"type\": \"text\", \"analyzer\": \"custom_kuromoji_analyzer\"},\n",
    "      \"answer\": {\"type\": \"text\", \"analyzer\": \"custom_kuromoji_analyzer\"}\n",
    "    }\n",
    "  }\n",
    "}\n",
    "\n",
    "response = requests.put(\n",
    "  f\"http://{host}:{port}/{index_name}\", \n",
    "  json=body\n",
    "  )\n",
    "\n",
    "response.json()\n"
   ]
  },
  {
   "cell_type": "markdown",
   "metadata": {},
   "source": [
    "---\n",
    "## 2. データを登録"
   ]
  },
  {
   "cell_type": "code",
   "execution_count": 19,
   "metadata": {},
   "outputs": [
    {
     "name": "stdout",
     "output_type": "stream",
     "text": [
      "Note: you may need to restart the kernel to use updated packages.\n"
     ]
    }
   ],
   "source": [
    "%pip install -Uq langchain beautifulsoup4\n"
   ]
  },
  {
   "cell_type": "code",
   "execution_count": 20,
   "metadata": {},
   "outputs": [
    {
     "name": "stderr",
     "output_type": "stream",
     "text": [
      "Created a chunk of size 1283, which is longer than the specified 10\n",
      "Created a chunk of size 154, which is longer than the specified 10\n",
      "Created a chunk of size 425, which is longer than the specified 10\n",
      "Created a chunk of size 275, which is longer than the specified 10\n",
      "Created a chunk of size 190, which is longer than the specified 10\n",
      "Created a chunk of size 582, which is longer than the specified 10\n",
      "Created a chunk of size 832, which is longer than the specified 10\n",
      "Created a chunk of size 483, which is longer than the specified 10\n",
      "Created a chunk of size 203, which is longer than the specified 10\n",
      "Created a chunk of size 826, which is longer than the specified 10\n",
      "Created a chunk of size 211, which is longer than the specified 10\n",
      "Created a chunk of size 574, which is longer than the specified 10\n",
      "Created a chunk of size 322, which is longer than the specified 10\n",
      "Created a chunk of size 199, which is longer than the specified 10\n",
      "Created a chunk of size 365, which is longer than the specified 10\n",
      "Created a chunk of size 298, which is longer than the specified 10\n",
      "Created a chunk of size 122, which is longer than the specified 10\n",
      "Created a chunk of size 964, which is longer than the specified 10\n",
      "Created a chunk of size 225, which is longer than the specified 10\n",
      "Created a chunk of size 507, which is longer than the specified 10\n",
      "Created a chunk of size 614, which is longer than the specified 10\n",
      "Created a chunk of size 117, which is longer than the specified 10\n",
      "Created a chunk of size 196, which is longer than the specified 10\n",
      "Created a chunk of size 126, which is longer than the specified 10\n",
      "Created a chunk of size 117, which is longer than the specified 10\n",
      "Created a chunk of size 133, which is longer than the specified 10\n",
      "Created a chunk of size 73, which is longer than the specified 10\n",
      "Created a chunk of size 93, which is longer than the specified 10\n",
      "Created a chunk of size 242, which is longer than the specified 10\n",
      "Created a chunk of size 252, which is longer than the specified 10\n",
      "Created a chunk of size 107, which is longer than the specified 10\n",
      "Created a chunk of size 112, which is longer than the specified 10\n",
      "Created a chunk of size 234, which is longer than the specified 10\n",
      "Created a chunk of size 298, which is longer than the specified 10\n",
      "Created a chunk of size 119, which is longer than the specified 10\n",
      "Created a chunk of size 448, which is longer than the specified 10\n",
      "Created a chunk of size 325, which is longer than the specified 10\n",
      "Created a chunk of size 384, which is longer than the specified 10\n",
      "Created a chunk of size 302, which is longer than the specified 10\n",
      "Created a chunk of size 641, which is longer than the specified 10\n",
      "Created a chunk of size 356, which is longer than the specified 10\n",
      "Created a chunk of size 317, which is longer than the specified 10\n",
      "Created a chunk of size 792, which is longer than the specified 10\n",
      "Created a chunk of size 276, which is longer than the specified 10\n",
      "Created a chunk of size 309, which is longer than the specified 10\n",
      "Created a chunk of size 261, which is longer than the specified 10\n",
      "Created a chunk of size 348, which is longer than the specified 10\n",
      "Created a chunk of size 96, which is longer than the specified 10\n",
      "Created a chunk of size 775, which is longer than the specified 10\n",
      "Created a chunk of size 501, which is longer than the specified 10\n",
      "Created a chunk of size 209, which is longer than the specified 10\n",
      "Created a chunk of size 336, which is longer than the specified 10\n",
      "Created a chunk of size 260, which is longer than the specified 10\n",
      "Created a chunk of size 547, which is longer than the specified 10\n",
      "Created a chunk of size 313, which is longer than the specified 10\n",
      "Created a chunk of size 205, which is longer than the specified 10\n",
      "Created a chunk of size 171, which is longer than the specified 10\n",
      "Created a chunk of size 194, which is longer than the specified 10\n",
      "Created a chunk of size 415, which is longer than the specified 10\n",
      "Created a chunk of size 382, which is longer than the specified 10\n",
      "Created a chunk of size 475, which is longer than the specified 10\n",
      "Created a chunk of size 242, which is longer than the specified 10\n",
      "Created a chunk of size 865, which is longer than the specified 10\n",
      "Created a chunk of size 337, which is longer than the specified 10\n",
      "Created a chunk of size 309, which is longer than the specified 10\n",
      "Created a chunk of size 94, which is longer than the specified 10\n",
      "Created a chunk of size 114, which is longer than the specified 10\n",
      "Created a chunk of size 487, which is longer than the specified 10\n",
      "Created a chunk of size 461, which is longer than the specified 10\n",
      "Created a chunk of size 420, which is longer than the specified 10\n",
      "Created a chunk of size 255, which is longer than the specified 10\n",
      "Created a chunk of size 430, which is longer than the specified 10\n",
      "Created a chunk of size 336, which is longer than the specified 10\n",
      "Created a chunk of size 505, which is longer than the specified 10\n",
      "Created a chunk of size 334, which is longer than the specified 10\n",
      "Created a chunk of size 395, which is longer than the specified 10\n",
      "Created a chunk of size 1228, which is longer than the specified 10\n",
      "Created a chunk of size 433, which is longer than the specified 10\n",
      "Created a chunk of size 224, which is longer than the specified 10\n",
      "Created a chunk of size 431, which is longer than the specified 10\n",
      "Created a chunk of size 278, which is longer than the specified 10\n",
      "Created a chunk of size 81, which is longer than the specified 10\n",
      "Created a chunk of size 109, which is longer than the specified 10\n",
      "Created a chunk of size 232, which is longer than the specified 10\n",
      "Created a chunk of size 397, which is longer than the specified 10\n",
      "Created a chunk of size 417, which is longer than the specified 10\n",
      "Created a chunk of size 303, which is longer than the specified 10\n",
      "Created a chunk of size 563, which is longer than the specified 10\n",
      "Created a chunk of size 370, which is longer than the specified 10\n",
      "Created a chunk of size 676, which is longer than the specified 10\n",
      "Created a chunk of size 322, which is longer than the specified 10\n",
      "Created a chunk of size 225, which is longer than the specified 10\n",
      "Created a chunk of size 504, which is longer than the specified 10\n",
      "Created a chunk of size 197, which is longer than the specified 10\n",
      "Created a chunk of size 352, which is longer than the specified 10\n",
      "Created a chunk of size 236, which is longer than the specified 10\n",
      "Created a chunk of size 370, which is longer than the specified 10\n",
      "Created a chunk of size 295, which is longer than the specified 10\n",
      "Created a chunk of size 169, which is longer than the specified 10\n",
      "Created a chunk of size 624, which is longer than the specified 10\n",
      "Created a chunk of size 108, which is longer than the specified 10\n",
      "Created a chunk of size 251, which is longer than the specified 10\n",
      "Created a chunk of size 583, which is longer than the specified 10\n",
      "Created a chunk of size 2304, which is longer than the specified 10\n",
      "Created a chunk of size 402, which is longer than the specified 10\n",
      "Created a chunk of size 399, which is longer than the specified 10\n",
      "Created a chunk of size 192, which is longer than the specified 10\n",
      "Created a chunk of size 269, which is longer than the specified 10\n",
      "Created a chunk of size 537, which is longer than the specified 10\n",
      "Created a chunk of size 453, which is longer than the specified 10\n",
      "Created a chunk of size 168, which is longer than the specified 10\n",
      "Created a chunk of size 363, which is longer than the specified 10\n",
      "Created a chunk of size 172, which is longer than the specified 10\n",
      "Created a chunk of size 402, which is longer than the specified 10\n",
      "Created a chunk of size 423, which is longer than the specified 10\n",
      "Created a chunk of size 272, which is longer than the specified 10\n",
      "Created a chunk of size 160, which is longer than the specified 10\n",
      "Created a chunk of size 224, which is longer than the specified 10\n",
      "Created a chunk of size 442, which is longer than the specified 10\n",
      "Created a chunk of size 284, which is longer than the specified 10\n",
      "Created a chunk of size 333, which is longer than the specified 10\n",
      "Created a chunk of size 295, which is longer than the specified 10\n",
      "Created a chunk of size 169, which is longer than the specified 10\n",
      "Created a chunk of size 626, which is longer than the specified 10\n",
      "Created a chunk of size 110, which is longer than the specified 10\n",
      "Created a chunk of size 235, which is longer than the specified 10\n",
      "Created a chunk of size 225, which is longer than the specified 10\n",
      "Created a chunk of size 237, which is longer than the specified 10\n",
      "Created a chunk of size 356, which is longer than the specified 10\n",
      "Created a chunk of size 138, which is longer than the specified 10\n",
      "Created a chunk of size 449, which is longer than the specified 10\n",
      "Created a chunk of size 260, which is longer than the specified 10\n",
      "Created a chunk of size 162, which is longer than the specified 10\n",
      "Created a chunk of size 118, which is longer than the specified 10\n",
      "Created a chunk of size 543, which is longer than the specified 10\n",
      "Created a chunk of size 879, which is longer than the specified 10\n",
      "Created a chunk of size 427, which is longer than the specified 10\n",
      "Created a chunk of size 280, which is longer than the specified 10\n",
      "Created a chunk of size 341, which is longer than the specified 10\n",
      "Created a chunk of size 736, which is longer than the specified 10\n",
      "Created a chunk of size 292, which is longer than the specified 10\n",
      "Created a chunk of size 275, which is longer than the specified 10\n",
      "Created a chunk of size 263, which is longer than the specified 10\n",
      "Created a chunk of size 338, which is longer than the specified 10\n",
      "Created a chunk of size 409, which is longer than the specified 10\n",
      "Created a chunk of size 174, which is longer than the specified 10\n",
      "Created a chunk of size 325, which is longer than the specified 10\n",
      "Created a chunk of size 203, which is longer than the specified 10\n",
      "Created a chunk of size 139, which is longer than the specified 10\n",
      "Created a chunk of size 113, which is longer than the specified 10\n",
      "Created a chunk of size 255, which is longer than the specified 10\n",
      "Created a chunk of size 242, which is longer than the specified 10\n",
      "Created a chunk of size 204, which is longer than the specified 10\n",
      "Created a chunk of size 109, which is longer than the specified 10\n",
      "Created a chunk of size 664, which is longer than the specified 10\n",
      "Created a chunk of size 314, which is longer than the specified 10\n",
      "Created a chunk of size 181, which is longer than the specified 10\n",
      "Created a chunk of size 230, which is longer than the specified 10\n",
      "Created a chunk of size 353, which is longer than the specified 10\n",
      "Created a chunk of size 295, which is longer than the specified 10\n",
      "Created a chunk of size 169, which is longer than the specified 10\n",
      "Created a chunk of size 624, which is longer than the specified 10\n",
      "Created a chunk of size 949, which is longer than the specified 10\n",
      "Created a chunk of size 282, which is longer than the specified 10\n",
      "Created a chunk of size 264, which is longer than the specified 10\n",
      "Created a chunk of size 291, which is longer than the specified 10\n",
      "Created a chunk of size 228, which is longer than the specified 10\n",
      "Created a chunk of size 191, which is longer than the specified 10\n",
      "Created a chunk of size 308, which is longer than the specified 10\n",
      "Created a chunk of size 537, which is longer than the specified 10\n",
      "Created a chunk of size 712, which is longer than the specified 10\n",
      "Created a chunk of size 420, which is longer than the specified 10\n",
      "Created a chunk of size 379, which is longer than the specified 10\n",
      "Created a chunk of size 305, which is longer than the specified 10\n",
      "Created a chunk of size 325, which is longer than the specified 10\n",
      "Created a chunk of size 718, which is longer than the specified 10\n",
      "Created a chunk of size 269, which is longer than the specified 10\n",
      "Created a chunk of size 83, which is longer than the specified 10\n",
      "Created a chunk of size 64, which is longer than the specified 10\n",
      "Created a chunk of size 126, which is longer than the specified 10\n",
      "Created a chunk of size 108, which is longer than the specified 10\n",
      "Created a chunk of size 151, which is longer than the specified 10\n",
      "Created a chunk of size 125, which is longer than the specified 10\n",
      "Created a chunk of size 234, which is longer than the specified 10\n",
      "Created a chunk of size 365, which is longer than the specified 10\n",
      "Created a chunk of size 428, which is longer than the specified 10\n",
      "Created a chunk of size 322, which is longer than the specified 10\n",
      "Created a chunk of size 404, which is longer than the specified 10\n",
      "Created a chunk of size 231, which is longer than the specified 10\n",
      "Created a chunk of size 250, which is longer than the specified 10\n",
      "Created a chunk of size 479, which is longer than the specified 10\n",
      "Created a chunk of size 233, which is longer than the specified 10\n",
      "Created a chunk of size 199, which is longer than the specified 10\n",
      "Created a chunk of size 315, which is longer than the specified 10\n",
      "Created a chunk of size 300, which is longer than the specified 10\n",
      "Created a chunk of size 217, which is longer than the specified 10\n",
      "Created a chunk of size 755, which is longer than the specified 10\n",
      "Created a chunk of size 348, which is longer than the specified 10\n",
      "Created a chunk of size 356, which is longer than the specified 10\n",
      "Created a chunk of size 346, which is longer than the specified 10\n",
      "Created a chunk of size 863, which is longer than the specified 10\n",
      "Created a chunk of size 539, which is longer than the specified 10\n",
      "Created a chunk of size 200, which is longer than the specified 10\n",
      "Created a chunk of size 100, which is longer than the specified 10\n",
      "Created a chunk of size 433, which is longer than the specified 10\n",
      "Created a chunk of size 124, which is longer than the specified 10\n",
      "Created a chunk of size 154, which is longer than the specified 10\n",
      "Created a chunk of size 236, which is longer than the specified 10\n",
      "Created a chunk of size 216, which is longer than the specified 10\n",
      "Created a chunk of size 160, which is longer than the specified 10\n",
      "Created a chunk of size 144, which is longer than the specified 10\n",
      "Created a chunk of size 194, which is longer than the specified 10\n",
      "Created a chunk of size 110, which is longer than the specified 10\n",
      "Created a chunk of size 339, which is longer than the specified 10\n",
      "Created a chunk of size 251, which is longer than the specified 10\n",
      "Created a chunk of size 577, which is longer than the specified 10\n",
      "Created a chunk of size 219, which is longer than the specified 10\n",
      "Created a chunk of size 113, which is longer than the specified 10\n",
      "Created a chunk of size 87, which is longer than the specified 10\n",
      "Created a chunk of size 144, which is longer than the specified 10\n",
      "Created a chunk of size 131, which is longer than the specified 10\n",
      "Created a chunk of size 138, which is longer than the specified 10\n",
      "Created a chunk of size 105, which is longer than the specified 10\n",
      "Created a chunk of size 85, which is longer than the specified 10\n",
      "Created a chunk of size 149, which is longer than the specified 10\n",
      "Created a chunk of size 388, which is longer than the specified 10\n",
      "Created a chunk of size 227, which is longer than the specified 10\n",
      "Created a chunk of size 233, which is longer than the specified 10\n",
      "Created a chunk of size 157, which is longer than the specified 10\n",
      "Created a chunk of size 270, which is longer than the specified 10\n",
      "Created a chunk of size 127, which is longer than the specified 10\n",
      "Created a chunk of size 111, which is longer than the specified 10\n",
      "Created a chunk of size 332, which is longer than the specified 10\n",
      "Created a chunk of size 295, which is longer than the specified 10\n",
      "Created a chunk of size 247, which is longer than the specified 10\n",
      "Created a chunk of size 268, which is longer than the specified 10\n",
      "Created a chunk of size 118, which is longer than the specified 10\n",
      "Created a chunk of size 102, which is longer than the specified 10\n",
      "Created a chunk of size 255, which is longer than the specified 10\n",
      "Created a chunk of size 323, which is longer than the specified 10\n",
      "Created a chunk of size 331, which is longer than the specified 10\n",
      "Created a chunk of size 778, which is longer than the specified 10\n",
      "Created a chunk of size 273, which is longer than the specified 10\n",
      "Created a chunk of size 140, which is longer than the specified 10\n",
      "Created a chunk of size 260, which is longer than the specified 10\n",
      "Created a chunk of size 140, which is longer than the specified 10\n",
      "Created a chunk of size 385, which is longer than the specified 10\n",
      "Created a chunk of size 131, which is longer than the specified 10\n",
      "Created a chunk of size 146, which is longer than the specified 10\n",
      "Created a chunk of size 526, which is longer than the specified 10\n",
      "Created a chunk of size 250, which is longer than the specified 10\n",
      "Created a chunk of size 197, which is longer than the specified 10\n",
      "Created a chunk of size 334, which is longer than the specified 10\n",
      "Created a chunk of size 309, which is longer than the specified 10\n",
      "Created a chunk of size 293, which is longer than the specified 10\n",
      "Created a chunk of size 404, which is longer than the specified 10\n",
      "Created a chunk of size 134, which is longer than the specified 10\n",
      "Created a chunk of size 492, which is longer than the specified 10\n",
      "Created a chunk of size 129, which is longer than the specified 10\n",
      "Created a chunk of size 546, which is longer than the specified 10\n",
      "Created a chunk of size 327, which is longer than the specified 10\n",
      "Created a chunk of size 211, which is longer than the specified 10\n",
      "Created a chunk of size 277, which is longer than the specified 10\n",
      "Created a chunk of size 84, which is longer than the specified 10\n",
      "Created a chunk of size 170, which is longer than the specified 10\n",
      "Created a chunk of size 314, which is longer than the specified 10\n",
      "Created a chunk of size 170, which is longer than the specified 10\n",
      "Created a chunk of size 142, which is longer than the specified 10\n",
      "Created a chunk of size 349, which is longer than the specified 10\n",
      "Created a chunk of size 818, which is longer than the specified 10\n",
      "Created a chunk of size 231, which is longer than the specified 10\n",
      "Created a chunk of size 180, which is longer than the specified 10\n",
      "Created a chunk of size 309, which is longer than the specified 10\n",
      "Created a chunk of size 113, which is longer than the specified 10\n",
      "Created a chunk of size 234, which is longer than the specified 10\n",
      "Created a chunk of size 185, which is longer than the specified 10\n",
      "Created a chunk of size 109, which is longer than the specified 10\n",
      "Created a chunk of size 196, which is longer than the specified 10\n",
      "Created a chunk of size 49, which is longer than the specified 10\n",
      "Created a chunk of size 199, which is longer than the specified 10\n",
      "Created a chunk of size 127, which is longer than the specified 10\n",
      "Created a chunk of size 161, which is longer than the specified 10\n",
      "Created a chunk of size 273, which is longer than the specified 10\n",
      "Created a chunk of size 219, which is longer than the specified 10\n",
      "Created a chunk of size 512, which is longer than the specified 10\n",
      "Created a chunk of size 204, which is longer than the specified 10\n",
      "Created a chunk of size 272, which is longer than the specified 10\n",
      "Created a chunk of size 238, which is longer than the specified 10\n",
      "Created a chunk of size 289, which is longer than the specified 10\n",
      "Created a chunk of size 331, which is longer than the specified 10\n",
      "Created a chunk of size 126, which is longer than the specified 10\n",
      "Created a chunk of size 297, which is longer than the specified 10\n",
      "Created a chunk of size 158, which is longer than the specified 10\n",
      "Created a chunk of size 241, which is longer than the specified 10\n",
      "Created a chunk of size 214, which is longer than the specified 10\n",
      "Created a chunk of size 361, which is longer than the specified 10\n",
      "Created a chunk of size 365, which is longer than the specified 10\n",
      "Created a chunk of size 1130, which is longer than the specified 10\n",
      "Created a chunk of size 468, which is longer than the specified 10\n",
      "Created a chunk of size 252, which is longer than the specified 10\n",
      "Created a chunk of size 130, which is longer than the specified 10\n",
      "Created a chunk of size 252, which is longer than the specified 10\n",
      "Created a chunk of size 264, which is longer than the specified 10\n",
      "Created a chunk of size 543, which is longer than the specified 10\n",
      "Created a chunk of size 221, which is longer than the specified 10\n",
      "Created a chunk of size 348, which is longer than the specified 10\n",
      "Created a chunk of size 232, which is longer than the specified 10\n",
      "Created a chunk of size 96, which is longer than the specified 10\n",
      "Created a chunk of size 101, which is longer than the specified 10\n",
      "Created a chunk of size 106, which is longer than the specified 10\n",
      "Created a chunk of size 369, which is longer than the specified 10\n",
      "Created a chunk of size 337, which is longer than the specified 10\n",
      "Created a chunk of size 316, which is longer than the specified 10\n",
      "Created a chunk of size 199, which is longer than the specified 10\n",
      "Created a chunk of size 277, which is longer than the specified 10\n",
      "Created a chunk of size 197, which is longer than the specified 10\n",
      "Created a chunk of size 195, which is longer than the specified 10\n",
      "Created a chunk of size 165, which is longer than the specified 10\n",
      "Created a chunk of size 68, which is longer than the specified 10\n",
      "Created a chunk of size 172, which is longer than the specified 10\n",
      "Created a chunk of size 91, which is longer than the specified 10\n",
      "Created a chunk of size 221, which is longer than the specified 10\n",
      "Created a chunk of size 101, which is longer than the specified 10\n",
      "Created a chunk of size 226, which is longer than the specified 10\n",
      "Created a chunk of size 139, which is longer than the specified 10\n",
      "Created a chunk of size 231, which is longer than the specified 10\n",
      "Created a chunk of size 49, which is longer than the specified 10\n",
      "Created a chunk of size 377, which is longer than the specified 10\n",
      "Created a chunk of size 371, which is longer than the specified 10\n",
      "Created a chunk of size 140, which is longer than the specified 10\n",
      "Created a chunk of size 59, which is longer than the specified 10\n",
      "Created a chunk of size 93, which is longer than the specified 10\n",
      "Created a chunk of size 187, which is longer than the specified 10\n",
      "Created a chunk of size 172, which is longer than the specified 10\n",
      "Created a chunk of size 182, which is longer than the specified 10\n",
      "Created a chunk of size 169, which is longer than the specified 10\n",
      "Created a chunk of size 265, which is longer than the specified 10\n",
      "Created a chunk of size 153, which is longer than the specified 10\n",
      "Created a chunk of size 105, which is longer than the specified 10\n",
      "Created a chunk of size 284, which is longer than the specified 10\n",
      "Created a chunk of size 472, which is longer than the specified 10\n",
      "Created a chunk of size 94, which is longer than the specified 10\n",
      "Created a chunk of size 116, which is longer than the specified 10\n",
      "Created a chunk of size 449, which is longer than the specified 10\n",
      "Created a chunk of size 356, which is longer than the specified 10\n",
      "Created a chunk of size 714, which is longer than the specified 10\n",
      "Created a chunk of size 468, which is longer than the specified 10\n",
      "Created a chunk of size 644, which is longer than the specified 10\n",
      "Created a chunk of size 246, which is longer than the specified 10\n",
      "Created a chunk of size 268, which is longer than the specified 10\n",
      "Created a chunk of size 162, which is longer than the specified 10\n",
      "Created a chunk of size 173, which is longer than the specified 10\n",
      "Created a chunk of size 96, which is longer than the specified 10\n",
      "Created a chunk of size 420, which is longer than the specified 10\n",
      "Created a chunk of size 370, which is longer than the specified 10\n",
      "Created a chunk of size 42, which is longer than the specified 10\n",
      "Created a chunk of size 251, which is longer than the specified 10\n",
      "Created a chunk of size 117, which is longer than the specified 10\n",
      "Created a chunk of size 261, which is longer than the specified 10\n",
      "Created a chunk of size 206, which is longer than the specified 10\n",
      "Created a chunk of size 90, which is longer than the specified 10\n",
      "Created a chunk of size 439, which is longer than the specified 10\n",
      "Created a chunk of size 99, which is longer than the specified 10\n",
      "Created a chunk of size 216, which is longer than the specified 10\n",
      "Created a chunk of size 366, which is longer than the specified 10\n",
      "Created a chunk of size 84, which is longer than the specified 10\n",
      "Created a chunk of size 136, which is longer than the specified 10\n",
      "Created a chunk of size 398, which is longer than the specified 10\n",
      "Created a chunk of size 269, which is longer than the specified 10\n",
      "Created a chunk of size 113, which is longer than the specified 10\n",
      "Created a chunk of size 161, which is longer than the specified 10\n",
      "Created a chunk of size 127, which is longer than the specified 10\n",
      "Created a chunk of size 115, which is longer than the specified 10\n",
      "Created a chunk of size 156, which is longer than the specified 10\n",
      "Created a chunk of size 627, which is longer than the specified 10\n",
      "Created a chunk of size 203, which is longer than the specified 10\n",
      "Created a chunk of size 174, which is longer than the specified 10\n",
      "Created a chunk of size 215, which is longer than the specified 10\n",
      "Created a chunk of size 146, which is longer than the specified 10\n",
      "Created a chunk of size 176, which is longer than the specified 10\n",
      "Created a chunk of size 242, which is longer than the specified 10\n",
      "Created a chunk of size 343, which is longer than the specified 10\n",
      "Created a chunk of size 335, which is longer than the specified 10\n",
      "Created a chunk of size 229, which is longer than the specified 10\n",
      "Created a chunk of size 255, which is longer than the specified 10\n",
      "Created a chunk of size 79, which is longer than the specified 10\n",
      "Created a chunk of size 108, which is longer than the specified 10\n",
      "Created a chunk of size 145, which is longer than the specified 10\n",
      "Created a chunk of size 227, which is longer than the specified 10\n",
      "Created a chunk of size 221, which is longer than the specified 10\n",
      "Created a chunk of size 165, which is longer than the specified 10\n",
      "Created a chunk of size 669, which is longer than the specified 10\n",
      "Created a chunk of size 232, which is longer than the specified 10\n",
      "Created a chunk of size 499, which is longer than the specified 10\n",
      "Created a chunk of size 237, which is longer than the specified 10\n",
      "Created a chunk of size 341, which is longer than the specified 10\n",
      "Created a chunk of size 134, which is longer than the specified 10\n",
      "Created a chunk of size 125, which is longer than the specified 10\n",
      "Created a chunk of size 187, which is longer than the specified 10\n",
      "Created a chunk of size 165, which is longer than the specified 10\n",
      "Created a chunk of size 115, which is longer than the specified 10\n",
      "Created a chunk of size 183, which is longer than the specified 10\n",
      "Created a chunk of size 60, which is longer than the specified 10\n",
      "Created a chunk of size 134, which is longer than the specified 10\n",
      "Created a chunk of size 235, which is longer than the specified 10\n",
      "Created a chunk of size 92, which is longer than the specified 10\n",
      "Created a chunk of size 215, which is longer than the specified 10\n",
      "Created a chunk of size 115, which is longer than the specified 10\n",
      "Created a chunk of size 210, which is longer than the specified 10\n",
      "Created a chunk of size 176, which is longer than the specified 10\n",
      "Created a chunk of size 136, which is longer than the specified 10\n",
      "Created a chunk of size 178, which is longer than the specified 10\n",
      "Created a chunk of size 313, which is longer than the specified 10\n",
      "Created a chunk of size 802, which is longer than the specified 10\n",
      "Created a chunk of size 564, which is longer than the specified 10\n",
      "Created a chunk of size 159, which is longer than the specified 10\n",
      "Created a chunk of size 382, which is longer than the specified 10\n",
      "Created a chunk of size 245, which is longer than the specified 10\n",
      "Created a chunk of size 297, which is longer than the specified 10\n",
      "Created a chunk of size 293, which is longer than the specified 10\n",
      "Created a chunk of size 325, which is longer than the specified 10\n",
      "Created a chunk of size 277, which is longer than the specified 10\n",
      "Created a chunk of size 133, which is longer than the specified 10\n",
      "Created a chunk of size 188, which is longer than the specified 10\n",
      "Created a chunk of size 252, which is longer than the specified 10\n",
      "Created a chunk of size 207, which is longer than the specified 10\n",
      "Created a chunk of size 235, which is longer than the specified 10\n",
      "Created a chunk of size 152, which is longer than the specified 10\n",
      "Created a chunk of size 84, which is longer than the specified 10\n",
      "Created a chunk of size 149, which is longer than the specified 10\n",
      "Created a chunk of size 238, which is longer than the specified 10\n",
      "Created a chunk of size 302, which is longer than the specified 10\n",
      "Created a chunk of size 310, which is longer than the specified 10\n",
      "Created a chunk of size 358, which is longer than the specified 10\n",
      "Created a chunk of size 425, which is longer than the specified 10\n",
      "Created a chunk of size 178, which is longer than the specified 10\n",
      "Created a chunk of size 313, which is longer than the specified 10\n",
      "Created a chunk of size 226, which is longer than the specified 10\n",
      "Created a chunk of size 225, which is longer than the specified 10\n",
      "Created a chunk of size 97, which is longer than the specified 10\n",
      "Created a chunk of size 125, which is longer than the specified 10\n",
      "Created a chunk of size 155, which is longer than the specified 10\n",
      "Created a chunk of size 268, which is longer than the specified 10\n",
      "Created a chunk of size 119, which is longer than the specified 10\n",
      "Created a chunk of size 172, which is longer than the specified 10\n",
      "Created a chunk of size 205, which is longer than the specified 10\n",
      "Created a chunk of size 404, which is longer than the specified 10\n",
      "Created a chunk of size 62, which is longer than the specified 10\n",
      "Created a chunk of size 107, which is longer than the specified 10\n",
      "Created a chunk of size 354, which is longer than the specified 10\n",
      "Created a chunk of size 274, which is longer than the specified 10\n",
      "Created a chunk of size 134, which is longer than the specified 10\n",
      "Created a chunk of size 81, which is longer than the specified 10\n",
      "Created a chunk of size 630, which is longer than the specified 10\n",
      "Created a chunk of size 93, which is longer than the specified 10\n",
      "Created a chunk of size 195, which is longer than the specified 10\n",
      "Created a chunk of size 212, which is longer than the specified 10\n",
      "Created a chunk of size 302, which is longer than the specified 10\n",
      "Created a chunk of size 263, which is longer than the specified 10\n",
      "Created a chunk of size 249, which is longer than the specified 10\n",
      "Created a chunk of size 179, which is longer than the specified 10\n",
      "Created a chunk of size 220, which is longer than the specified 10\n",
      "Created a chunk of size 98, which is longer than the specified 10\n",
      "Created a chunk of size 245, which is longer than the specified 10\n",
      "Created a chunk of size 119, which is longer than the specified 10\n",
      "Created a chunk of size 203, which is longer than the specified 10\n",
      "Created a chunk of size 358, which is longer than the specified 10\n",
      "Created a chunk of size 573, which is longer than the specified 10\n",
      "Created a chunk of size 280, which is longer than the specified 10\n",
      "Created a chunk of size 642, which is longer than the specified 10\n",
      "Created a chunk of size 360, which is longer than the specified 10\n",
      "Created a chunk of size 553, which is longer than the specified 10\n",
      "Created a chunk of size 213, which is longer than the specified 10\n",
      "Created a chunk of size 129, which is longer than the specified 10\n",
      "Created a chunk of size 525, which is longer than the specified 10\n",
      "Created a chunk of size 165, which is longer than the specified 10\n",
      "Created a chunk of size 185, which is longer than the specified 10\n",
      "Created a chunk of size 217, which is longer than the specified 10\n",
      "Created a chunk of size 102, which is longer than the specified 10\n",
      "Created a chunk of size 745, which is longer than the specified 10\n",
      "Created a chunk of size 822, which is longer than the specified 10\n",
      "Created a chunk of size 738, which is longer than the specified 10\n",
      "Created a chunk of size 284, which is longer than the specified 10\n",
      "Created a chunk of size 124, which is longer than the specified 10\n",
      "Created a chunk of size 240, which is longer than the specified 10\n",
      "Created a chunk of size 343, which is longer than the specified 10\n",
      "Created a chunk of size 276, which is longer than the specified 10\n",
      "Created a chunk of size 112, which is longer than the specified 10\n",
      "Created a chunk of size 374, which is longer than the specified 10\n",
      "Created a chunk of size 430, which is longer than the specified 10\n",
      "Created a chunk of size 159, which is longer than the specified 10\n",
      "Created a chunk of size 393, which is longer than the specified 10\n",
      "Created a chunk of size 315, which is longer than the specified 10\n",
      "Created a chunk of size 293, which is longer than the specified 10\n",
      "Created a chunk of size 297, which is longer than the specified 10\n",
      "Created a chunk of size 671, which is longer than the specified 10\n",
      "Created a chunk of size 277, which is longer than the specified 10\n",
      "Created a chunk of size 1418, which is longer than the specified 10\n",
      "Created a chunk of size 239, which is longer than the specified 10\n",
      "Created a chunk of size 222, which is longer than the specified 10\n",
      "Created a chunk of size 79, which is longer than the specified 10\n",
      "Created a chunk of size 205, which is longer than the specified 10\n",
      "Created a chunk of size 347, which is longer than the specified 10\n",
      "Created a chunk of size 463, which is longer than the specified 10\n",
      "Created a chunk of size 186, which is longer than the specified 10\n",
      "Created a chunk of size 383, which is longer than the specified 10\n",
      "Created a chunk of size 187, which is longer than the specified 10\n",
      "Created a chunk of size 319, which is longer than the specified 10\n",
      "Created a chunk of size 299, which is longer than the specified 10\n",
      "Created a chunk of size 449, which is longer than the specified 10\n",
      "Created a chunk of size 461, which is longer than the specified 10\n",
      "Created a chunk of size 567, which is longer than the specified 10\n",
      "Created a chunk of size 199, which is longer than the specified 10\n",
      "Created a chunk of size 229, which is longer than the specified 10\n",
      "Created a chunk of size 166, which is longer than the specified 10\n",
      "Created a chunk of size 194, which is longer than the specified 10\n",
      "Created a chunk of size 319, which is longer than the specified 10\n",
      "Created a chunk of size 218, which is longer than the specified 10\n",
      "Created a chunk of size 472, which is longer than the specified 10\n",
      "Created a chunk of size 325, which is longer than the specified 10\n",
      "Created a chunk of size 111, which is longer than the specified 10\n",
      "Created a chunk of size 272, which is longer than the specified 10\n",
      "Created a chunk of size 315, which is longer than the specified 10\n",
      "Created a chunk of size 201, which is longer than the specified 10\n",
      "Created a chunk of size 201, which is longer than the specified 10\n",
      "Created a chunk of size 189, which is longer than the specified 10\n",
      "Created a chunk of size 404, which is longer than the specified 10\n",
      "Created a chunk of size 342, which is longer than the specified 10\n",
      "Created a chunk of size 193, which is longer than the specified 10\n",
      "Created a chunk of size 348, which is longer than the specified 10\n",
      "Created a chunk of size 221, which is longer than the specified 10\n",
      "Created a chunk of size 122, which is longer than the specified 10\n",
      "Created a chunk of size 146, which is longer than the specified 10\n",
      "Created a chunk of size 242, which is longer than the specified 10\n",
      "Created a chunk of size 184, which is longer than the specified 10\n",
      "Created a chunk of size 240, which is longer than the specified 10\n",
      "Created a chunk of size 221, which is longer than the specified 10\n",
      "Created a chunk of size 299, which is longer than the specified 10\n",
      "Created a chunk of size 308, which is longer than the specified 10\n",
      "Created a chunk of size 141, which is longer than the specified 10\n",
      "Created a chunk of size 115, which is longer than the specified 10\n",
      "Created a chunk of size 270, which is longer than the specified 10\n"
     ]
    }
   ],
   "source": [
    "from langchain.document_loaders import WebBaseLoader\n",
    "from langchain.text_splitter import CharacterTextSplitter\n",
    "\n",
    "loader = WebBaseLoader(\"https://aws.amazon.com/jp/ec2/faqs/\")\n",
    "data = loader.load()\n",
    "\n",
    "text_splitter = CharacterTextSplitter(\n",
    "    separator = \"Q:\",\n",
    "    keep_separator=True,\n",
    "    chunk_size = 10,\n",
    "    chunk_overlap  = 0,\n",
    ")\n",
    "\n",
    "# 先頭のいらないものを消す\n",
    "texts = text_splitter.split_documents(data)\n",
    "texts = texts[1:]\n",
    "# 末尾のいらないものを消す\n",
    "texts[-1].page_content = texts[-1].page_content.split('\\xa0')[0]\n"
   ]
  },
  {
   "cell_type": "code",
   "execution_count": 21,
   "metadata": {},
   "outputs": [],
   "source": [
    "for text in texts:\n",
    "  try:\n",
    "    lines = text.page_content.splitlines()\n",
    "    q = lines[0]\n",
    "    a = text.page_content\n",
    "\n",
    "    body = {\n",
    "      \"question\": q,\n",
    "      \"answer\": a\n",
    "    }\n",
    "\n",
    "    response = requests.post(\n",
    "      f'http://{host}:{port}/{index_name}/_doc', \n",
    "      json=body\n",
    "    )\n",
    "  except Exception as e:\n",
    "    print(e)\n"
   ]
  },
  {
   "cell_type": "markdown",
   "metadata": {},
   "source": [
    "---\n",
    "## 1. RAG検索\n"
   ]
  },
  {
   "cell_type": "code",
   "execution_count": 23,
   "metadata": {},
   "outputs": [],
   "source": [
    "question = \"EC2で起動できるOSは何ですか？\"\n"
   ]
  },
  {
   "cell_type": "code",
   "execution_count": 26,
   "metadata": {},
   "outputs": [
    {
     "data": {
      "text/plain": [
       "{'took': 1,\n",
       " 'timed_out': False,\n",
       " '_shards': {'total': 1, 'successful': 1, 'skipped': 0, 'failed': 0},\n",
       " 'hits': {'total': {'value': 205, 'relation': 'eq'},\n",
       "  'max_score': 6.3473625,\n",
       "  'hits': [{'_index': 'rag-index',\n",
       "    '_id': '_zWlw4sBcYKsbL--rqoS',\n",
       "    '_score': 6.3473625,\n",
       "    '_source': {'question': 'Q: Amazon EC2 で何ができますか?',\n",
       "     'answer': 'Q: Amazon EC2 で何ができますか?\\nAmazon Simple Storage Service (Amazon S3) がクラウド内のストレージを可能とするのとまったく同様に、Amazon EC2 は、クラウド内での「コンピューティング」を可能にします。\\xa0 Amazon EC2 のシンプルなウェブサービスインターフェイスによって、手間をかけず、必要な機能を取得および設定できます。お客様のコンピューティングリソースに対して、高機能なコントロールが提供され、Amazon の実績あるインフラストラクチャ上で実行できます。Amazon EC2 では、わずか数分間で新規サーバーインスタンスを取得して起動できるようになります。これにより、コンピューティング要件の変化に合わせて、すばやく容量をスケールアップおよびスケールダウンできます。実際に使用した分のみ料金が発生するため、Amazon EC2 はコンピューティングの経済性も変革します。'}},\n",
       "   {'_index': 'rag-index',\n",
       "    '_id': '9zWmw4sBcYKsbL--MKzk',\n",
       "    '_score': 6.303764,\n",
       "    '_source': {'question': 'Q:Nitro Hypervisor では、インスタンスの再起動と終了の EC2 API リクエストがどのように実装されますか?',\n",
       "     'answer': 'Q:Nitro Hypervisor では、インスタンスの再起動と終了の EC2 API リクエストがどのように実装されますか?\\nNitro Hypervisor は、インスタンスで実行されているオペレーティングシステムに、業界標準の ACPI メソッドによって正常にシャットダウンする必要があることを通知します。ただし、Linux インスタンスの場合は、acpid がインストールされており、正常に機能している必要があります。インスタンスで acpid が機能していない場合、終了イベントは数分間遅れ、ハードリセットまたは電源オフとして実行されます。'}},\n",
       "   {'_index': 'rag-index',\n",
       "    '_id': '5zWmw4sBcYKsbL--LKza',\n",
       "    '_score': 6.081098,\n",
       "    '_source': {'question': 'Q:「EC2 コンピューティングユニット (ECU)」とは何ですか? またそれを導入する理由は何ですか?',\n",
       "     'answer': 'Q:「EC2 コンピューティングユニット (ECU)」とは何ですか? またそれを導入する理由は何ですか?\\nユーティリティコンピューティングモデルへの移行は、デベロッパーが CPU リソースに対してこれまで持っていた考え方を根本的に変えるものです。特定のプロセッサを購入またはリースして数か月から数年間使用する代わりに、時間単位で処理能力をレンタルすることができます。Amazon EC2 は、コモディティなハードウェア上に構築されているため、EC2 インスタンスが内在する物理的なハードウェアの種類は、時間と共に異なる可能性があります。当社の目的は、実際に利用するハードウェアがどのようなものであろうと、一定量の CPU 能力を安定したかたちで供給することです。\\nAmazon EC2 は様々な手段を使用し、各インスタンスに安定した期待通りの CPU 能力を提供します。異なるインスタンスタイプ間でデベロッパーが簡単に CPU 能力値を比較できるように、Amazon EC2 コンピュートユニット (ECU) が定義されています。特定のインスタンスに配分されている CPU 量は、これらの EC2 コンピュートユニットで明示されます。当社はいくつかのベンチマークとテストを使用して、EC2 コンピュートユニットのパフォーマンスの安定性と予測可能性を管理します。EC2 コンピューティングユニット (ECU) は、Amazon EC2 インスタンスの整数処理能力を相対的に測定します。将来的に、コンピューティング性能についてお客様により明確な図を提供するメトリクスが見つかった場合には、EC2 コンピュートユニット (ECU) の定義方法が追加または交換される場合があります。'}},\n",
       "   {'_index': 'rag-index',\n",
       "    '_id': 'SzWmw4sBcYKsbL--BKzv',\n",
       "    '_score': 6.0681305,\n",
       "    '_source': {'question': 'Q: Amazon EC2 Fleet とは何ですか?',\n",
       "     'answer': 'Q: Amazon EC2 Fleet とは何ですか?\\nEC2 Fleet では単一の API コールで、さまざまなインスタンスタイプ、アベイラビリティーゾーン、およびオンデマンド、リザーブドインスタンス (RI)、スポットインスタンスの購入モデルにわたってコンピューティングキャパシティをプロビジョニングして、スケール、パフォーマンス、コストを最適化できます。'}},\n",
       "   {'_index': 'rag-index',\n",
       "    '_id': 'FTWmw4sBcYKsbL--OK2t',\n",
       "    '_score': 6.0342083,\n",
       "    '_source': {'question': 'Q: OS とソフトウェアのアップデートを Apple Update Servers から直接 Mac インスタンスに適用できますか?',\n",
       "     'answer': 'Q: OS とソフトウェアのアップデートを Apple Update Servers から直接 Mac インスタンスに適用できますか?\\nEC2 Mac インスタンスでは、macOS ソフトウェアの自動アップデートは無効になっています。必要なバージョンの macOS を起動するために、公式に提供されている macOS AMI を使用することをお勧めします。x86 ベースの EC2 Mac インスタンスでは、ソフトウェアアップデート環境設定ペイン、またはソフトウェアアップデート CLI コマンドで macOS のバージョンをアップデートできます。現時点では、EC2 M1 Mac インスタンスでの macOS アップデートはサポートしていません。どちらの EC2 Mac インスタンスでも、アプリケーションやその他のユーザースペースのソフトウェアをインストールおよびアップデートすることができます。'}},\n",
       "   {'_index': 'rag-index',\n",
       "    '_id': 'pTWlw4sBcYKsbL--2atY',\n",
       "    '_score': 5.8552375,\n",
       "    '_source': {'question': 'Q: Amazon EC2 X2gd インスタンスとは何ですか?',\n",
       "     'answer': 'Q: Amazon EC2 X2gd インスタンスとは何ですか?\\nAmazon EC2 X2gd インスタンスは、AWS が設計した Arm ベースの AWS Graviton2 プロセッサを搭載した次世代のメモリ最適化インスタンスです。X2gd インスタンスは、x86 ベースの X1 インスタンスと比較して最大 55% 優れたコストパフォーマンスを提供し、Amazon EC2 のメモリの GiB あたりのコストを最小限に抑えます。\\xa0これらは、専有ハードウェアと Nitro Hypervisor の組み合わせである AWS Nitro System 上に構築された X インスタンスの最初のインスタンスです。'}},\n",
       "   {'_index': 'rag-index',\n",
       "    '_id': 'JTWlw4sBcYKsbL--uKtD',\n",
       "    '_score': 5.8124304,\n",
       "    '_source': {'question': 'Q: EC2 UltraClusters とは何ですか? どうすればアクセスできますか?',\n",
       "     'answer': 'Q: EC2 UltraClusters とは何ですか? どうすればアクセスできますか?\\nP4d インスタンスは、EC2 UltraCluster と呼ばれるハイパースケールクラスターにデプロイされます。それぞれの EC2 UltraCluster は、4,000 を超える NVIDIA A100 Tensor Core GPU、ペタビット規模のネットワーキング、FSx for Lustre による拡張可能な低レイテンシーストレージで構成されています。それぞれの EC2 UltraCluster が、世界トップクラスのスーパーコンピューターの 1 つということになります。EC2 SuperCluster では、簡単に P4d インスタンスを起動できます。さらに支援が必要な場合は、お問い合わせください。'}},\n",
       "   {'_index': 'rag-index',\n",
       "    '_id': 'NTWlw4sBcYKsbL--vKt0',\n",
       "    '_score': 5.8124304,\n",
       "    '_source': {'question': 'Q: Amazon EC2 F1 とは何ですか?',\n",
       "     'answer': 'Q: Amazon EC2 F1 とは何ですか?\\nAmazon EC2 F1 は、アプリケーションの高速化に利用できる、プログラミング可能なハードウェアによるコンピューティングインスタンスです。新しい F1 インスタンスタイプは高いパフォーマンスが得られ、FPGA にアクセスしてカスタムハードウェア高速化の開発とデプロイが容易に行えます。'}},\n",
       "   {'_index': 'rag-index',\n",
       "    '_id': 'iDWlw4sBcYKsbL--0av2',\n",
       "    '_score': 5.8124304,\n",
       "    '_source': {'question': 'Q: EC2 High Memory インスタンスとは何ですか?',\n",
       "     'answer': 'Q: EC2 High Memory インスタンスとは何ですか?\\nAmazon EC2 High Memory インスタンスは、単一インスタンスの 3 TiB、6 TiB、9 TiB、12 TiB、18 TiB、および 24 TiB のメモリを提供します。これらのインスタンスは、クラウド内の SAP HANA 製品のインストレーションを含むラージインメモリデータベースを実行するように設計されています。 \\nEC2 High Memory インスタンスは 8 ソケットのプラットフォームを使用した 3 TiB、6 TiB、9 TiB、12 TiB のメモリを持つインスタンスで、Intel® Xeon® Platinum 8176M (Skylake) プロセッサを採用しています。18 TiB および 24 TiB のメモリを持つ EC2 High Memory インスタンスは、8 ソケットのプラットフォームを使用した最初の Amazon EC2 インスタンスで、ミッションクリティカルエンタープライズワークロードを最適化した第二世代の Intel® Xeon® Scalable (Cascade Lake) プロセッサーを採用しています。EC2 High Memory インスタンスは Amazon Elastic Network Adapter (ENA) に基づいた最大 100 Gbps の総合ネットワーク帯域幅での強化ネットワークを使用して高いネットワークスループットと低いレイテンシーを実現しています。EC2 High Memory インスタンスは、デフォルトで EBS 最適化されており、暗号化および非暗号化の EBS ボリュームをサポートします。'}},\n",
       "   {'_index': 'rag-index',\n",
       "    '_id': 'AjWmw4sBcYKsbL--M62n',\n",
       "    '_score': 5.8124304,\n",
       "    '_source': {'question': 'Q: Amazon EC2 Mac インスタンスとは何ですか?',\n",
       "     'answer': 'Q: Amazon EC2 Mac インスタンスとは何ですか?\\nAmazon EC2 Mac インスタンスにより、お客様は、クラウドでオンデマンドの macOS ワークロードを初めて実行できるようになり、すべての Apple デベロッパーが AWS の柔軟性、スケーラビリティ、およびコストメリットの恩恵を受けることができます。EC2 Mac インスタンスを使用すると、iPhone、iPad、Mac、Apple Watch、Apple TV、および Safari 用のアプリを作成するデベロッパーは、macOS 環境を数分でプロビジョニングしてアクセスし、必要に応じて容量を動的にスケールし、AWS の従量制料金の利点を享受できます。'}}]},\n",
       " 'ext': {'retrieval_augmented_generation': {'answer': ' Amazon EC2では、以下の主なOSが起動できます。\\n\\n- Linuxディストリビューション(Amazon Linux、Ubuntu、CentOSなど)\\n- Windowsサーバー\\n- macOS\\n- Oracle Linux\\n- SUSE Linux\\n- FreeBSD\\n- IBM AIX\\n- Oracle Solaris\\n\\nEC2では、様々なリリースされたLinuxディストリビューションやWindowsサーバーをサポートしています。また、特定の用途向けにOracle Linux、FreeBSD、AIX、Solarisイメージも提供しています。最近では、macOSもサポートOSの一つとなっています。'}}}"
      ]
     },
     "execution_count": 26,
     "metadata": {},
     "output_type": "execute_result"
    }
   ],
   "source": [
    "body = {\n",
    "  \"query\": {\n",
    "    \"match\": {\n",
    "      \"question\": question\n",
    "    }\n",
    "  },\n",
    "  \"ext\": {\n",
    "\t\t\"generative_qa_parameters\": {\n",
    "      \"llm_model\": \"bedrock/anthropic-instant\", # 必ずbedrock/で始めること\n",
    "\t\t\t\"llm_question\": question,\n",
    "      \"context_size\": 10\n",
    "\t\t}\n",
    "\t}\n",
    "}\n",
    "\n",
    "params = {\n",
    "  \"search_pipeline\": search_pipeline_name,\n",
    "  \"timeout\": \"30s\"\n",
    "}\n",
    "\n",
    "response = requests.get(\n",
    "  f\"http://{host}:{port}/{index_name}/_search\", \n",
    "  json=body,\n",
    "  params=params\n",
    "  )\n",
    "\n",
    "response.json()\n"
   ]
  },
  {
   "cell_type": "code",
   "execution_count": 30,
   "metadata": {},
   "outputs": [
    {
     "name": "stdout",
     "output_type": "stream",
     "text": [
      " Amazon EC2では、以下の主なOSが起動できます。\n",
      "\n",
      "- Linuxディストリビューション(Amazon Linux、Ubuntu、CentOSなど)\n",
      "- Windowsサーバー\n",
      "- macOS\n",
      "- Oracle Linux\n",
      "- SUSE Linux\n",
      "- FreeBSD\n",
      "- IBM AIX\n",
      "- Oracle Solaris\n",
      "\n",
      "EC2では、様々なリリースされたLinuxディストリビューションやWindowsサーバーをサポートしています。また、特定の用途向けにOracle Linux、FreeBSD、AIX、Solarisイメージも提供しています。最近では、macOSもサポートOSの一つとなっています。\n"
     ]
    }
   ],
   "source": [
    "print(\n",
    "  response.json()[\"ext\"][\"retrieval_augmented_generation\"][\"answer\"]\n",
    ")\n",
    "\n"
   ]
  },
  {
   "cell_type": "markdown",
   "metadata": {},
   "source": [
    "---\n",
    "## クリーンアップ"
   ]
  },
  {
   "cell_type": "markdown",
   "metadata": {},
   "source": [
    "* インデックス削除\n"
   ]
  },
  {
   "cell_type": "code",
   "execution_count": null,
   "metadata": {},
   "outputs": [],
   "source": [
    "response = requests.delete(\n",
    "  f\"http://{host}:{port}/{index_name}\", \n",
    "  )\n",
    "\n",
    "response.json()\n"
   ]
  }
 ],
 "metadata": {
  "kernelspec": {
   "display_name": "Python 3",
   "language": "python",
   "name": "python3"
  },
  "language_info": {
   "codemirror_mode": {
    "name": "ipython",
    "version": 3
   },
   "file_extension": ".py",
   "mimetype": "text/x-python",
   "name": "python",
   "nbconvert_exporter": "python",
   "pygments_lexer": "ipython3",
   "version": "3.10.12"
  }
 },
 "nbformat": 4,
 "nbformat_minor": 2
}
