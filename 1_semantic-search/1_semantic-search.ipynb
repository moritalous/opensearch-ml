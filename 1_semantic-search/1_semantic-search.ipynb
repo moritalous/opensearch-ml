{
 "cells": [
  {
   "cell_type": "markdown",
   "metadata": {},
   "source": [
    "# Semantic検索\n"
   ]
  },
  {
   "cell_type": "markdown",
   "metadata": {},
   "source": [
    "ML環境構築\n",
    "\n",
    "1. Amazon BedrockとのMLコネクターを作成\n",
    "1. モデルグループを作成\n",
    "1. モデルを作成\n",
    "1. モデルをデプロイ\n",
    "1. Ingestパイプラインを作成\n",
    "1. Searchパイプラインを作成\n",
    "\n",
    "インデックス作成\n",
    "\n",
    "1. インデックスを作成\n",
    "1. データを登録\n",
    "\n",
    "検索\n",
    "\n",
    "1. キーワード検索\n",
    "1. ニューラル検索\n",
    "1. ハイブリッド検索"
   ]
  },
  {
   "cell_type": "markdown",
   "metadata": {},
   "source": [
    "---\n",
    "## OpenSearch 起動・停止"
   ]
  },
  {
   "cell_type": "markdown",
   "metadata": {},
   "source": [
    "* 起動"
   ]
  },
  {
   "cell_type": "code",
   "execution_count": null,
   "metadata": {},
   "outputs": [],
   "source": [
    "%%bash\n",
    "docker compose -f \"../0_opensearch-docker/docker-compose.yml\" up -d\n"
   ]
  },
  {
   "cell_type": "markdown",
   "metadata": {},
   "source": [
    "* 停止"
   ]
  },
  {
   "cell_type": "code",
   "execution_count": 66,
   "metadata": {},
   "outputs": [
    {
     "name": "stderr",
     "output_type": "stream",
     "text": [
      " Container opensearch-dashboards  Stopping\n",
      " Container opensearch-node1  Stopping\n",
      " Container opensearch-dashboards  Stopped\n",
      " Container opensearch-dashboards  Removing\n",
      " Container opensearch-dashboards  Removed\n",
      " Container opensearch-node1  Stopped\n",
      " Container opensearch-node1  Removing\n",
      " Container opensearch-node1  Removed\n",
      " Network 0_opensearch-docker_opensearch-net  Removing\n",
      " Network 0_opensearch-docker_opensearch-net  Removed\n"
     ]
    }
   ],
   "source": [
    "%%bash\n",
    "docker compose -f \"../0_opensearch-docker/docker-compose.yml\" down\n",
    "# docker compose -f \"../0_opensearch-docker/docker-compose.yml\" down -v\n"
   ]
  },
  {
   "cell_type": "markdown",
   "metadata": {},
   "source": [
    "---\n",
    "## 事前準備"
   ]
  },
  {
   "cell_type": "code",
   "execution_count": 4,
   "metadata": {},
   "outputs": [
    {
     "name": "stdout",
     "output_type": "stream",
     "text": [
      "Note: you may need to restart the kernel to use updated packages.\n"
     ]
    }
   ],
   "source": [
    "%pip install -Uq requests python-dotenv\n"
   ]
  },
  {
   "cell_type": "code",
   "execution_count": 7,
   "metadata": {},
   "outputs": [],
   "source": [
    "import os\n",
    "import requests\n"
   ]
  },
  {
   "cell_type": "code",
   "execution_count": 6,
   "metadata": {},
   "outputs": [
    {
     "data": {
      "text/plain": [
       "True"
      ]
     },
     "execution_count": 6,
     "metadata": {},
     "output_type": "execute_result"
    }
   ],
   "source": [
    "from dotenv import load_dotenv\n",
    "\n",
    "load_dotenv(override=True)\n"
   ]
  },
  {
   "cell_type": "code",
   "execution_count": 3,
   "metadata": {},
   "outputs": [],
   "source": [
    "host = 'localhost'\n",
    "port = 9200\n"
   ]
  },
  {
   "cell_type": "markdown",
   "metadata": {},
   "source": [
    "---\n",
    "## 1. Amazon BedrockとのMLコネクターを作成"
   ]
  },
  {
   "cell_type": "code",
   "execution_count": 8,
   "metadata": {},
   "outputs": [
    {
     "data": {
      "text/plain": [
       "{'connector_id': 'I-w-w4sBPX3Z0k6U9jOi'}"
      ]
     },
     "execution_count": 8,
     "metadata": {},
     "output_type": "execute_result"
    }
   ],
   "source": [
    "body = {\n",
    "  \"name\": \"Amazon Bedrock Connector: embedding\",\n",
    "  \"description\": \"The connector to the Bedrock Titan embedding model\",\n",
    "  \"version\": 1,\n",
    "  \"protocol\": \"aws_sigv4\",\n",
    "  \"parameters\": {\n",
    "    \"region\": os.getenv(\"AWS_DEFAULT_REGION\"),\n",
    "    \"service_name\": \"bedrock\"\n",
    "  },\n",
    "  \"credential\": {\n",
    "    \"access_key\": os.getenv(\"AWS_ACCESS_KEY_ID\"),\n",
    "      \"secret_key\": os.getenv(\"AWS_SECRET_ACCESS_KEY\")\n",
    "  },\n",
    "  \"actions\": [\n",
    "    {\n",
    "      \"action_type\": \"predict\",\n",
    "      \"method\": \"POST\",\n",
    "      \"url\": \"https://bedrock-runtime.us-east-1.amazonaws.com/model/amazon.titan-embed-text-v1/invoke\",\n",
    "      \"headers\": {\n",
    "        \"content-type\": \"application/json\",\n",
    "        \"x-amz-content-sha256\": \"required\"\n",
    "      },\n",
    "      \"request_body\": \"{ \\\"inputText\\\": \\\"${parameters.inputText}\\\" }\",\n",
    "      \"pre_process_function\": \"\\n    StringBuilder builder = new StringBuilder();\\n    builder.append(\\\"\\\\\\\"\\\");\\n    String first = params.text_docs[0];\\n    builder.append(first);\\n    builder.append(\\\"\\\\\\\"\\\");\\n    def parameters = \\\"{\\\" +\\\"\\\\\\\"inputText\\\\\\\":\\\" + builder + \\\"}\\\";\\n    return  \\\"{\\\" +\\\"\\\\\\\"parameters\\\\\\\":\\\" + parameters + \\\"}\\\";\",\n",
    "      \"post_process_function\": \"\\n      def name = \\\"sentence_embedding\\\";\\n      def dataType = \\\"FLOAT32\\\";\\n      if (params.embedding == null || params.embedding.length == 0) {\\n        return params.message;\\n      }\\n      def shape = [params.embedding.length];\\n      def json = \\\"{\\\" +\\n                 \\\"\\\\\\\"name\\\\\\\":\\\\\\\"\\\" + name + \\\"\\\\\\\",\\\" +\\n                 \\\"\\\\\\\"data_type\\\\\\\":\\\\\\\"\\\" + dataType + \\\"\\\\\\\",\\\" +\\n                 \\\"\\\\\\\"shape\\\\\\\":\\\" + shape + \\\",\\\" +\\n                 \\\"\\\\\\\"data\\\\\\\":\\\" + params.embedding +\\n                 \\\"}\\\";\\n      return json;\\n    \"\n",
    "    }\n",
    "  ]\n",
    "}\n",
    "\n",
    "response = requests.post(\n",
    "  f'http://{host}:{port}/_plugins/_ml/connectors/_create', \n",
    "  json=body\n",
    "  )\n",
    "\n",
    "response.json()\n"
   ]
  },
  {
   "cell_type": "code",
   "execution_count": 10,
   "metadata": {},
   "outputs": [
    {
     "data": {
      "text/plain": [
       "'I-w-w4sBPX3Z0k6U9jOi'"
      ]
     },
     "execution_count": 10,
     "metadata": {},
     "output_type": "execute_result"
    }
   ],
   "source": [
    "connector_id = response.json()[\"connector_id\"]\n",
    "connector_id\n"
   ]
  },
  {
   "cell_type": "markdown",
   "metadata": {},
   "source": [
    "---\n",
    "## 2. モデルグループを作成\n"
   ]
  },
  {
   "cell_type": "code",
   "execution_count": 11,
   "metadata": {},
   "outputs": [
    {
     "data": {
      "text/plain": [
       "{'model_group_id': 'JOxBw4sBPX3Z0k6UTzMb', 'status': 'CREATED'}"
      ]
     },
     "execution_count": 11,
     "metadata": {},
     "output_type": "execute_result"
    }
   ],
   "source": [
    "model_group_name = \"bedrock-embedded-model-group\"\n",
    "\n",
    "body = {\n",
    "    \"name\": model_group_name\n",
    "}\n",
    "\n",
    "response = requests.post(\n",
    "  f'http://{host}:{port}/_plugins/_ml/model_groups/_register', \n",
    "  json=body\n",
    "  )\n",
    "\n",
    "response.json()\n"
   ]
  },
  {
   "cell_type": "code",
   "execution_count": 12,
   "metadata": {},
   "outputs": [
    {
     "data": {
      "text/plain": [
       "'JOxBw4sBPX3Z0k6UTzMb'"
      ]
     },
     "execution_count": 12,
     "metadata": {},
     "output_type": "execute_result"
    }
   ],
   "source": [
    "model_group_id = response.json()[\"model_group_id\"]\n",
    "model_group_id\n"
   ]
  },
  {
   "cell_type": "markdown",
   "metadata": {},
   "source": [
    "---\n",
    "## 3. モデルを作成\n"
   ]
  },
  {
   "cell_type": "code",
   "execution_count": 13,
   "metadata": {},
   "outputs": [
    {
     "data": {
      "text/plain": [
       "{'task_id': 'JexCw4sBPX3Z0k6UzTMe',\n",
       " 'status': 'CREATED',\n",
       " 'model_id': 'JuxCw4sBPX3Z0k6U0jPD'}"
      ]
     },
     "execution_count": 13,
     "metadata": {},
     "output_type": "execute_result"
    }
   ],
   "source": [
    "model_name = \"bedrock-embedded-model\"\n",
    "\n",
    "body = {\n",
    "    \"name\": model_name,\n",
    "    \"function_name\": \"remote\",\n",
    "    \"model_group_id\": model_group_id,\n",
    "    \"connector_id\": connector_id\n",
    "}\n",
    "\n",
    "response = requests.post(\n",
    "  f'http://{host}:{port}/_plugins/_ml/models/_register', \n",
    "  json=body\n",
    "  )\n",
    "\n",
    "response.json()\n"
   ]
  },
  {
   "cell_type": "code",
   "execution_count": 14,
   "metadata": {},
   "outputs": [
    {
     "data": {
      "text/plain": [
       "'JuxCw4sBPX3Z0k6U0jPD'"
      ]
     },
     "execution_count": 14,
     "metadata": {},
     "output_type": "execute_result"
    }
   ],
   "source": [
    "model_id = response.json()[\"model_id\"]\n",
    "model_id\n"
   ]
  },
  {
   "cell_type": "markdown",
   "metadata": {},
   "source": [
    "---\n",
    "## 4. モデルをデプロイ\n"
   ]
  },
  {
   "cell_type": "code",
   "execution_count": 15,
   "metadata": {},
   "outputs": [
    {
     "data": {
      "text/plain": [
       "{'task_id': 'J-xDw4sBPX3Z0k6U0TNW',\n",
       " 'task_type': 'DEPLOY_MODEL',\n",
       " 'status': 'COMPLETED'}"
      ]
     },
     "execution_count": 15,
     "metadata": {},
     "output_type": "execute_result"
    }
   ],
   "source": [
    "response = requests.post(\n",
    "  f'http://{host}:{port}/_plugins/_ml/models/{model_id}/_deploy', \n",
    "  )\n",
    "\n",
    "response.json()\n"
   ]
  },
  {
   "cell_type": "markdown",
   "metadata": {},
   "source": [
    "---\n",
    "## 5. Ingestパイプラインを作成\n"
   ]
  },
  {
   "cell_type": "code",
   "execution_count": 54,
   "metadata": {},
   "outputs": [
    {
     "data": {
      "text/plain": [
       "{'acknowledged': True}"
      ]
     },
     "execution_count": 54,
     "metadata": {},
     "output_type": "execute_result"
    }
   ],
   "source": [
    "ingest_pipeline_name = \"nlp-ingest-pipeline\"\n",
    "embedding_field = \"passage_embedding\"\n",
    "embedding_target_field = \"question\"\n",
    "\n",
    "body = {\n",
    "  \"description\": \"An NLP ingest pipeline\",\n",
    "  \"processors\": [\n",
    "    {\n",
    "      \"text_embedding\": {\n",
    "        \"model_id\": model_id,\n",
    "        \"field_map\": {\n",
    "          embedding_target_field: embedding_field\n",
    "        }\n",
    "      }\n",
    "    }\n",
    "  ]\n",
    "}\n",
    "\n",
    "response = requests.put(\n",
    "  f'http://{host}:{port}/_ingest/pipeline/{ingest_pipeline_name}', \n",
    "  json=body\n",
    "  )\n",
    "\n",
    "response.json()\n"
   ]
  },
  {
   "cell_type": "markdown",
   "metadata": {},
   "source": [
    "---\n",
    "## 6. Searchパイプラインを作成\n"
   ]
  },
  {
   "cell_type": "code",
   "execution_count": 17,
   "metadata": {},
   "outputs": [
    {
     "data": {
      "text/plain": [
       "{'acknowledged': True}"
      ]
     },
     "execution_count": 17,
     "metadata": {},
     "output_type": "execute_result"
    }
   ],
   "source": [
    "search_pipeline_name = 'nlp-search-pipeline'\n",
    "\n",
    "body = {\n",
    "  \"description\": \"Post processor for hybrid search\",\n",
    "  \"phase_results_processors\": [\n",
    "    {\n",
    "      \"normalization-processor\": {\n",
    "        \"normalization\": {\n",
    "          \"technique\": \"min_max\"\n",
    "        },\n",
    "        \"combination\": {\n",
    "          \"technique\": \"arithmetic_mean\",\n",
    "          \"parameters\": {\n",
    "            \"weights\": [\n",
    "              0.3,\n",
    "              0.7\n",
    "            ]\n",
    "          }\n",
    "        }\n",
    "      }\n",
    "    }\n",
    "  ]\n",
    "}\n",
    "\n",
    "response = requests.put(\n",
    "  f'http://{host}:{port}/_search/pipeline/{search_pipeline_name}', \n",
    "  json=body\n",
    "  )\n",
    "\n",
    "response.json()\n"
   ]
  },
  {
   "cell_type": "markdown",
   "metadata": {},
   "source": [
    "---\n",
    "## 1. インデックスを作成\n"
   ]
  },
  {
   "cell_type": "code",
   "execution_count": 18,
   "metadata": {},
   "outputs": [],
   "source": [
    "index_name = 'semantic-index'\n"
   ]
  },
  {
   "cell_type": "code",
   "execution_count": 56,
   "metadata": {},
   "outputs": [
    {
     "data": {
      "text/plain": [
       "{'acknowledged': True, 'shards_acknowledged': True, 'index': 'semantic-index'}"
      ]
     },
     "execution_count": 56,
     "metadata": {},
     "output_type": "execute_result"
    }
   ],
   "source": [
    "body = {\n",
    "  \"settings\": {\n",
    "    \"index.knn\": True,\n",
    "    \"default_pipeline\": ingest_pipeline_name,\n",
    "    \"index\": {\n",
    "      \"analysis\": {\n",
    "        \"analyzer\": {\n",
    "          \"custom_kuromoji_analyzer\": {\n",
    "            \"tokenizer\": \"kuromoji_tokenizer\",\n",
    "            \"filter\": [\"kuromoji_baseform\", \"ja_stop\"],\n",
    "            \"char_filter\": [\"icu_normalizer\"]\n",
    "          }\n",
    "        }\n",
    "      }\n",
    "    }\n",
    "  },\n",
    "  \"mappings\": {\n",
    "    \"properties\": {\n",
    "      embedding_field: {\n",
    "        \"type\": \"knn_vector\",\n",
    "        \"dimension\": 1536\n",
    "      },\n",
    "      \"question\": {\"type\": \"text\", \"analyzer\": \"custom_kuromoji_analyzer\"},\n",
    "      \"answer\": {\"type\": \"text\", \"analyzer\": \"custom_kuromoji_analyzer\"}\n",
    "    }\n",
    "  }\n",
    "}\n",
    "\n",
    "response = requests.put(\n",
    "  f\"http://{host}:{port}/{index_name}\", \n",
    "  json=body\n",
    "  )\n",
    "\n",
    "response.json()\n"
   ]
  },
  {
   "cell_type": "markdown",
   "metadata": {},
   "source": [
    "---\n",
    "## 2. データを登録"
   ]
  },
  {
   "cell_type": "code",
   "execution_count": 22,
   "metadata": {},
   "outputs": [
    {
     "name": "stdout",
     "output_type": "stream",
     "text": [
      "Note: you may need to restart the kernel to use updated packages.\n"
     ]
    }
   ],
   "source": [
    "%pip install -Uq langchain beautifulsoup4\n"
   ]
  },
  {
   "cell_type": "code",
   "execution_count": 23,
   "metadata": {},
   "outputs": [
    {
     "name": "stderr",
     "output_type": "stream",
     "text": [
      "Created a chunk of size 1283, which is longer than the specified 10\n",
      "Created a chunk of size 154, which is longer than the specified 10\n",
      "Created a chunk of size 425, which is longer than the specified 10\n",
      "Created a chunk of size 275, which is longer than the specified 10\n",
      "Created a chunk of size 190, which is longer than the specified 10\n",
      "Created a chunk of size 582, which is longer than the specified 10\n",
      "Created a chunk of size 832, which is longer than the specified 10\n",
      "Created a chunk of size 483, which is longer than the specified 10\n",
      "Created a chunk of size 203, which is longer than the specified 10\n",
      "Created a chunk of size 826, which is longer than the specified 10\n",
      "Created a chunk of size 211, which is longer than the specified 10\n",
      "Created a chunk of size 574, which is longer than the specified 10\n",
      "Created a chunk of size 322, which is longer than the specified 10\n",
      "Created a chunk of size 199, which is longer than the specified 10\n",
      "Created a chunk of size 365, which is longer than the specified 10\n",
      "Created a chunk of size 298, which is longer than the specified 10\n",
      "Created a chunk of size 122, which is longer than the specified 10\n",
      "Created a chunk of size 964, which is longer than the specified 10\n",
      "Created a chunk of size 225, which is longer than the specified 10\n",
      "Created a chunk of size 507, which is longer than the specified 10\n",
      "Created a chunk of size 614, which is longer than the specified 10\n",
      "Created a chunk of size 117, which is longer than the specified 10\n",
      "Created a chunk of size 196, which is longer than the specified 10\n",
      "Created a chunk of size 126, which is longer than the specified 10\n",
      "Created a chunk of size 117, which is longer than the specified 10\n",
      "Created a chunk of size 133, which is longer than the specified 10\n",
      "Created a chunk of size 73, which is longer than the specified 10\n",
      "Created a chunk of size 93, which is longer than the specified 10\n",
      "Created a chunk of size 242, which is longer than the specified 10\n",
      "Created a chunk of size 252, which is longer than the specified 10\n",
      "Created a chunk of size 107, which is longer than the specified 10\n",
      "Created a chunk of size 112, which is longer than the specified 10\n",
      "Created a chunk of size 234, which is longer than the specified 10\n",
      "Created a chunk of size 298, which is longer than the specified 10\n",
      "Created a chunk of size 119, which is longer than the specified 10\n",
      "Created a chunk of size 448, which is longer than the specified 10\n",
      "Created a chunk of size 325, which is longer than the specified 10\n",
      "Created a chunk of size 384, which is longer than the specified 10\n",
      "Created a chunk of size 302, which is longer than the specified 10\n",
      "Created a chunk of size 641, which is longer than the specified 10\n",
      "Created a chunk of size 356, which is longer than the specified 10\n",
      "Created a chunk of size 317, which is longer than the specified 10\n",
      "Created a chunk of size 792, which is longer than the specified 10\n",
      "Created a chunk of size 276, which is longer than the specified 10\n",
      "Created a chunk of size 309, which is longer than the specified 10\n",
      "Created a chunk of size 261, which is longer than the specified 10\n",
      "Created a chunk of size 348, which is longer than the specified 10\n",
      "Created a chunk of size 96, which is longer than the specified 10\n",
      "Created a chunk of size 775, which is longer than the specified 10\n",
      "Created a chunk of size 501, which is longer than the specified 10\n",
      "Created a chunk of size 209, which is longer than the specified 10\n",
      "Created a chunk of size 336, which is longer than the specified 10\n",
      "Created a chunk of size 260, which is longer than the specified 10\n",
      "Created a chunk of size 547, which is longer than the specified 10\n",
      "Created a chunk of size 313, which is longer than the specified 10\n",
      "Created a chunk of size 205, which is longer than the specified 10\n",
      "Created a chunk of size 171, which is longer than the specified 10\n",
      "Created a chunk of size 194, which is longer than the specified 10\n",
      "Created a chunk of size 415, which is longer than the specified 10\n",
      "Created a chunk of size 382, which is longer than the specified 10\n",
      "Created a chunk of size 475, which is longer than the specified 10\n",
      "Created a chunk of size 242, which is longer than the specified 10\n",
      "Created a chunk of size 865, which is longer than the specified 10\n",
      "Created a chunk of size 337, which is longer than the specified 10\n",
      "Created a chunk of size 309, which is longer than the specified 10\n",
      "Created a chunk of size 94, which is longer than the specified 10\n",
      "Created a chunk of size 114, which is longer than the specified 10\n",
      "Created a chunk of size 487, which is longer than the specified 10\n",
      "Created a chunk of size 461, which is longer than the specified 10\n",
      "Created a chunk of size 420, which is longer than the specified 10\n",
      "Created a chunk of size 255, which is longer than the specified 10\n",
      "Created a chunk of size 430, which is longer than the specified 10\n",
      "Created a chunk of size 336, which is longer than the specified 10\n",
      "Created a chunk of size 505, which is longer than the specified 10\n",
      "Created a chunk of size 334, which is longer than the specified 10\n",
      "Created a chunk of size 395, which is longer than the specified 10\n",
      "Created a chunk of size 1228, which is longer than the specified 10\n",
      "Created a chunk of size 433, which is longer than the specified 10\n",
      "Created a chunk of size 224, which is longer than the specified 10\n",
      "Created a chunk of size 431, which is longer than the specified 10\n",
      "Created a chunk of size 278, which is longer than the specified 10\n",
      "Created a chunk of size 81, which is longer than the specified 10\n",
      "Created a chunk of size 109, which is longer than the specified 10\n",
      "Created a chunk of size 232, which is longer than the specified 10\n",
      "Created a chunk of size 397, which is longer than the specified 10\n",
      "Created a chunk of size 417, which is longer than the specified 10\n",
      "Created a chunk of size 303, which is longer than the specified 10\n",
      "Created a chunk of size 563, which is longer than the specified 10\n",
      "Created a chunk of size 370, which is longer than the specified 10\n",
      "Created a chunk of size 676, which is longer than the specified 10\n",
      "Created a chunk of size 322, which is longer than the specified 10\n",
      "Created a chunk of size 225, which is longer than the specified 10\n",
      "Created a chunk of size 504, which is longer than the specified 10\n",
      "Created a chunk of size 197, which is longer than the specified 10\n",
      "Created a chunk of size 352, which is longer than the specified 10\n",
      "Created a chunk of size 236, which is longer than the specified 10\n",
      "Created a chunk of size 370, which is longer than the specified 10\n",
      "Created a chunk of size 295, which is longer than the specified 10\n",
      "Created a chunk of size 169, which is longer than the specified 10\n",
      "Created a chunk of size 624, which is longer than the specified 10\n",
      "Created a chunk of size 108, which is longer than the specified 10\n",
      "Created a chunk of size 251, which is longer than the specified 10\n",
      "Created a chunk of size 583, which is longer than the specified 10\n",
      "Created a chunk of size 2304, which is longer than the specified 10\n",
      "Created a chunk of size 402, which is longer than the specified 10\n",
      "Created a chunk of size 399, which is longer than the specified 10\n",
      "Created a chunk of size 192, which is longer than the specified 10\n",
      "Created a chunk of size 269, which is longer than the specified 10\n",
      "Created a chunk of size 537, which is longer than the specified 10\n",
      "Created a chunk of size 453, which is longer than the specified 10\n",
      "Created a chunk of size 168, which is longer than the specified 10\n",
      "Created a chunk of size 363, which is longer than the specified 10\n",
      "Created a chunk of size 172, which is longer than the specified 10\n",
      "Created a chunk of size 402, which is longer than the specified 10\n",
      "Created a chunk of size 423, which is longer than the specified 10\n",
      "Created a chunk of size 272, which is longer than the specified 10\n",
      "Created a chunk of size 160, which is longer than the specified 10\n",
      "Created a chunk of size 224, which is longer than the specified 10\n",
      "Created a chunk of size 442, which is longer than the specified 10\n",
      "Created a chunk of size 284, which is longer than the specified 10\n",
      "Created a chunk of size 333, which is longer than the specified 10\n",
      "Created a chunk of size 295, which is longer than the specified 10\n",
      "Created a chunk of size 169, which is longer than the specified 10\n",
      "Created a chunk of size 626, which is longer than the specified 10\n",
      "Created a chunk of size 110, which is longer than the specified 10\n",
      "Created a chunk of size 235, which is longer than the specified 10\n",
      "Created a chunk of size 225, which is longer than the specified 10\n",
      "Created a chunk of size 237, which is longer than the specified 10\n",
      "Created a chunk of size 356, which is longer than the specified 10\n",
      "Created a chunk of size 138, which is longer than the specified 10\n",
      "Created a chunk of size 449, which is longer than the specified 10\n",
      "Created a chunk of size 260, which is longer than the specified 10\n",
      "Created a chunk of size 162, which is longer than the specified 10\n",
      "Created a chunk of size 118, which is longer than the specified 10\n",
      "Created a chunk of size 543, which is longer than the specified 10\n",
      "Created a chunk of size 879, which is longer than the specified 10\n",
      "Created a chunk of size 427, which is longer than the specified 10\n",
      "Created a chunk of size 280, which is longer than the specified 10\n",
      "Created a chunk of size 341, which is longer than the specified 10\n",
      "Created a chunk of size 736, which is longer than the specified 10\n",
      "Created a chunk of size 292, which is longer than the specified 10\n",
      "Created a chunk of size 275, which is longer than the specified 10\n",
      "Created a chunk of size 263, which is longer than the specified 10\n",
      "Created a chunk of size 338, which is longer than the specified 10\n",
      "Created a chunk of size 409, which is longer than the specified 10\n",
      "Created a chunk of size 174, which is longer than the specified 10\n",
      "Created a chunk of size 325, which is longer than the specified 10\n",
      "Created a chunk of size 203, which is longer than the specified 10\n",
      "Created a chunk of size 139, which is longer than the specified 10\n",
      "Created a chunk of size 113, which is longer than the specified 10\n",
      "Created a chunk of size 255, which is longer than the specified 10\n",
      "Created a chunk of size 242, which is longer than the specified 10\n",
      "Created a chunk of size 204, which is longer than the specified 10\n",
      "Created a chunk of size 109, which is longer than the specified 10\n",
      "Created a chunk of size 664, which is longer than the specified 10\n",
      "Created a chunk of size 314, which is longer than the specified 10\n",
      "Created a chunk of size 181, which is longer than the specified 10\n",
      "Created a chunk of size 230, which is longer than the specified 10\n",
      "Created a chunk of size 353, which is longer than the specified 10\n",
      "Created a chunk of size 295, which is longer than the specified 10\n",
      "Created a chunk of size 169, which is longer than the specified 10\n",
      "Created a chunk of size 624, which is longer than the specified 10\n",
      "Created a chunk of size 949, which is longer than the specified 10\n",
      "Created a chunk of size 282, which is longer than the specified 10\n",
      "Created a chunk of size 264, which is longer than the specified 10\n",
      "Created a chunk of size 291, which is longer than the specified 10\n",
      "Created a chunk of size 228, which is longer than the specified 10\n",
      "Created a chunk of size 191, which is longer than the specified 10\n",
      "Created a chunk of size 308, which is longer than the specified 10\n",
      "Created a chunk of size 537, which is longer than the specified 10\n",
      "Created a chunk of size 712, which is longer than the specified 10\n",
      "Created a chunk of size 420, which is longer than the specified 10\n",
      "Created a chunk of size 379, which is longer than the specified 10\n",
      "Created a chunk of size 305, which is longer than the specified 10\n",
      "Created a chunk of size 325, which is longer than the specified 10\n",
      "Created a chunk of size 718, which is longer than the specified 10\n",
      "Created a chunk of size 269, which is longer than the specified 10\n",
      "Created a chunk of size 83, which is longer than the specified 10\n",
      "Created a chunk of size 64, which is longer than the specified 10\n",
      "Created a chunk of size 126, which is longer than the specified 10\n",
      "Created a chunk of size 108, which is longer than the specified 10\n",
      "Created a chunk of size 151, which is longer than the specified 10\n",
      "Created a chunk of size 125, which is longer than the specified 10\n",
      "Created a chunk of size 234, which is longer than the specified 10\n",
      "Created a chunk of size 365, which is longer than the specified 10\n",
      "Created a chunk of size 428, which is longer than the specified 10\n",
      "Created a chunk of size 322, which is longer than the specified 10\n",
      "Created a chunk of size 404, which is longer than the specified 10\n",
      "Created a chunk of size 231, which is longer than the specified 10\n",
      "Created a chunk of size 250, which is longer than the specified 10\n",
      "Created a chunk of size 479, which is longer than the specified 10\n",
      "Created a chunk of size 233, which is longer than the specified 10\n",
      "Created a chunk of size 199, which is longer than the specified 10\n",
      "Created a chunk of size 315, which is longer than the specified 10\n",
      "Created a chunk of size 300, which is longer than the specified 10\n",
      "Created a chunk of size 217, which is longer than the specified 10\n",
      "Created a chunk of size 755, which is longer than the specified 10\n",
      "Created a chunk of size 348, which is longer than the specified 10\n",
      "Created a chunk of size 356, which is longer than the specified 10\n",
      "Created a chunk of size 346, which is longer than the specified 10\n",
      "Created a chunk of size 863, which is longer than the specified 10\n",
      "Created a chunk of size 539, which is longer than the specified 10\n",
      "Created a chunk of size 200, which is longer than the specified 10\n",
      "Created a chunk of size 100, which is longer than the specified 10\n",
      "Created a chunk of size 433, which is longer than the specified 10\n",
      "Created a chunk of size 124, which is longer than the specified 10\n",
      "Created a chunk of size 154, which is longer than the specified 10\n",
      "Created a chunk of size 236, which is longer than the specified 10\n",
      "Created a chunk of size 216, which is longer than the specified 10\n",
      "Created a chunk of size 160, which is longer than the specified 10\n",
      "Created a chunk of size 144, which is longer than the specified 10\n",
      "Created a chunk of size 194, which is longer than the specified 10\n",
      "Created a chunk of size 110, which is longer than the specified 10\n",
      "Created a chunk of size 339, which is longer than the specified 10\n",
      "Created a chunk of size 251, which is longer than the specified 10\n",
      "Created a chunk of size 577, which is longer than the specified 10\n",
      "Created a chunk of size 219, which is longer than the specified 10\n",
      "Created a chunk of size 113, which is longer than the specified 10\n",
      "Created a chunk of size 87, which is longer than the specified 10\n",
      "Created a chunk of size 144, which is longer than the specified 10\n",
      "Created a chunk of size 131, which is longer than the specified 10\n",
      "Created a chunk of size 138, which is longer than the specified 10\n",
      "Created a chunk of size 105, which is longer than the specified 10\n",
      "Created a chunk of size 85, which is longer than the specified 10\n",
      "Created a chunk of size 149, which is longer than the specified 10\n",
      "Created a chunk of size 388, which is longer than the specified 10\n",
      "Created a chunk of size 227, which is longer than the specified 10\n",
      "Created a chunk of size 233, which is longer than the specified 10\n",
      "Created a chunk of size 157, which is longer than the specified 10\n",
      "Created a chunk of size 270, which is longer than the specified 10\n",
      "Created a chunk of size 127, which is longer than the specified 10\n",
      "Created a chunk of size 111, which is longer than the specified 10\n",
      "Created a chunk of size 332, which is longer than the specified 10\n",
      "Created a chunk of size 295, which is longer than the specified 10\n",
      "Created a chunk of size 247, which is longer than the specified 10\n",
      "Created a chunk of size 268, which is longer than the specified 10\n",
      "Created a chunk of size 118, which is longer than the specified 10\n",
      "Created a chunk of size 102, which is longer than the specified 10\n",
      "Created a chunk of size 255, which is longer than the specified 10\n",
      "Created a chunk of size 323, which is longer than the specified 10\n",
      "Created a chunk of size 331, which is longer than the specified 10\n",
      "Created a chunk of size 778, which is longer than the specified 10\n",
      "Created a chunk of size 273, which is longer than the specified 10\n",
      "Created a chunk of size 140, which is longer than the specified 10\n",
      "Created a chunk of size 260, which is longer than the specified 10\n",
      "Created a chunk of size 140, which is longer than the specified 10\n",
      "Created a chunk of size 385, which is longer than the specified 10\n",
      "Created a chunk of size 131, which is longer than the specified 10\n",
      "Created a chunk of size 146, which is longer than the specified 10\n",
      "Created a chunk of size 526, which is longer than the specified 10\n",
      "Created a chunk of size 250, which is longer than the specified 10\n",
      "Created a chunk of size 197, which is longer than the specified 10\n",
      "Created a chunk of size 334, which is longer than the specified 10\n",
      "Created a chunk of size 309, which is longer than the specified 10\n",
      "Created a chunk of size 293, which is longer than the specified 10\n",
      "Created a chunk of size 404, which is longer than the specified 10\n",
      "Created a chunk of size 134, which is longer than the specified 10\n",
      "Created a chunk of size 492, which is longer than the specified 10\n",
      "Created a chunk of size 129, which is longer than the specified 10\n",
      "Created a chunk of size 546, which is longer than the specified 10\n",
      "Created a chunk of size 327, which is longer than the specified 10\n",
      "Created a chunk of size 211, which is longer than the specified 10\n",
      "Created a chunk of size 277, which is longer than the specified 10\n",
      "Created a chunk of size 84, which is longer than the specified 10\n",
      "Created a chunk of size 170, which is longer than the specified 10\n",
      "Created a chunk of size 314, which is longer than the specified 10\n",
      "Created a chunk of size 170, which is longer than the specified 10\n",
      "Created a chunk of size 142, which is longer than the specified 10\n",
      "Created a chunk of size 349, which is longer than the specified 10\n",
      "Created a chunk of size 818, which is longer than the specified 10\n",
      "Created a chunk of size 231, which is longer than the specified 10\n",
      "Created a chunk of size 180, which is longer than the specified 10\n",
      "Created a chunk of size 309, which is longer than the specified 10\n",
      "Created a chunk of size 113, which is longer than the specified 10\n",
      "Created a chunk of size 234, which is longer than the specified 10\n",
      "Created a chunk of size 185, which is longer than the specified 10\n",
      "Created a chunk of size 109, which is longer than the specified 10\n",
      "Created a chunk of size 196, which is longer than the specified 10\n",
      "Created a chunk of size 49, which is longer than the specified 10\n",
      "Created a chunk of size 199, which is longer than the specified 10\n",
      "Created a chunk of size 127, which is longer than the specified 10\n",
      "Created a chunk of size 161, which is longer than the specified 10\n",
      "Created a chunk of size 273, which is longer than the specified 10\n",
      "Created a chunk of size 219, which is longer than the specified 10\n",
      "Created a chunk of size 512, which is longer than the specified 10\n",
      "Created a chunk of size 204, which is longer than the specified 10\n",
      "Created a chunk of size 272, which is longer than the specified 10\n",
      "Created a chunk of size 238, which is longer than the specified 10\n",
      "Created a chunk of size 289, which is longer than the specified 10\n",
      "Created a chunk of size 331, which is longer than the specified 10\n",
      "Created a chunk of size 126, which is longer than the specified 10\n",
      "Created a chunk of size 297, which is longer than the specified 10\n",
      "Created a chunk of size 158, which is longer than the specified 10\n",
      "Created a chunk of size 241, which is longer than the specified 10\n",
      "Created a chunk of size 214, which is longer than the specified 10\n",
      "Created a chunk of size 361, which is longer than the specified 10\n",
      "Created a chunk of size 365, which is longer than the specified 10\n",
      "Created a chunk of size 1130, which is longer than the specified 10\n",
      "Created a chunk of size 468, which is longer than the specified 10\n",
      "Created a chunk of size 252, which is longer than the specified 10\n",
      "Created a chunk of size 130, which is longer than the specified 10\n",
      "Created a chunk of size 252, which is longer than the specified 10\n",
      "Created a chunk of size 264, which is longer than the specified 10\n",
      "Created a chunk of size 543, which is longer than the specified 10\n",
      "Created a chunk of size 221, which is longer than the specified 10\n",
      "Created a chunk of size 348, which is longer than the specified 10\n",
      "Created a chunk of size 232, which is longer than the specified 10\n",
      "Created a chunk of size 96, which is longer than the specified 10\n",
      "Created a chunk of size 101, which is longer than the specified 10\n",
      "Created a chunk of size 106, which is longer than the specified 10\n",
      "Created a chunk of size 369, which is longer than the specified 10\n",
      "Created a chunk of size 337, which is longer than the specified 10\n",
      "Created a chunk of size 316, which is longer than the specified 10\n",
      "Created a chunk of size 199, which is longer than the specified 10\n",
      "Created a chunk of size 277, which is longer than the specified 10\n",
      "Created a chunk of size 197, which is longer than the specified 10\n",
      "Created a chunk of size 195, which is longer than the specified 10\n",
      "Created a chunk of size 165, which is longer than the specified 10\n",
      "Created a chunk of size 68, which is longer than the specified 10\n",
      "Created a chunk of size 172, which is longer than the specified 10\n",
      "Created a chunk of size 91, which is longer than the specified 10\n",
      "Created a chunk of size 221, which is longer than the specified 10\n",
      "Created a chunk of size 101, which is longer than the specified 10\n",
      "Created a chunk of size 226, which is longer than the specified 10\n",
      "Created a chunk of size 139, which is longer than the specified 10\n",
      "Created a chunk of size 231, which is longer than the specified 10\n",
      "Created a chunk of size 49, which is longer than the specified 10\n",
      "Created a chunk of size 377, which is longer than the specified 10\n",
      "Created a chunk of size 371, which is longer than the specified 10\n",
      "Created a chunk of size 140, which is longer than the specified 10\n",
      "Created a chunk of size 59, which is longer than the specified 10\n",
      "Created a chunk of size 93, which is longer than the specified 10\n",
      "Created a chunk of size 187, which is longer than the specified 10\n",
      "Created a chunk of size 172, which is longer than the specified 10\n",
      "Created a chunk of size 182, which is longer than the specified 10\n",
      "Created a chunk of size 169, which is longer than the specified 10\n",
      "Created a chunk of size 265, which is longer than the specified 10\n",
      "Created a chunk of size 153, which is longer than the specified 10\n",
      "Created a chunk of size 105, which is longer than the specified 10\n",
      "Created a chunk of size 284, which is longer than the specified 10\n",
      "Created a chunk of size 472, which is longer than the specified 10\n",
      "Created a chunk of size 94, which is longer than the specified 10\n",
      "Created a chunk of size 116, which is longer than the specified 10\n",
      "Created a chunk of size 449, which is longer than the specified 10\n",
      "Created a chunk of size 356, which is longer than the specified 10\n",
      "Created a chunk of size 714, which is longer than the specified 10\n",
      "Created a chunk of size 468, which is longer than the specified 10\n",
      "Created a chunk of size 644, which is longer than the specified 10\n",
      "Created a chunk of size 246, which is longer than the specified 10\n",
      "Created a chunk of size 268, which is longer than the specified 10\n",
      "Created a chunk of size 162, which is longer than the specified 10\n",
      "Created a chunk of size 173, which is longer than the specified 10\n",
      "Created a chunk of size 96, which is longer than the specified 10\n",
      "Created a chunk of size 420, which is longer than the specified 10\n",
      "Created a chunk of size 370, which is longer than the specified 10\n",
      "Created a chunk of size 42, which is longer than the specified 10\n",
      "Created a chunk of size 251, which is longer than the specified 10\n",
      "Created a chunk of size 117, which is longer than the specified 10\n",
      "Created a chunk of size 261, which is longer than the specified 10\n",
      "Created a chunk of size 206, which is longer than the specified 10\n",
      "Created a chunk of size 90, which is longer than the specified 10\n",
      "Created a chunk of size 439, which is longer than the specified 10\n",
      "Created a chunk of size 99, which is longer than the specified 10\n",
      "Created a chunk of size 216, which is longer than the specified 10\n",
      "Created a chunk of size 366, which is longer than the specified 10\n",
      "Created a chunk of size 84, which is longer than the specified 10\n",
      "Created a chunk of size 136, which is longer than the specified 10\n",
      "Created a chunk of size 398, which is longer than the specified 10\n",
      "Created a chunk of size 269, which is longer than the specified 10\n",
      "Created a chunk of size 113, which is longer than the specified 10\n",
      "Created a chunk of size 161, which is longer than the specified 10\n",
      "Created a chunk of size 127, which is longer than the specified 10\n",
      "Created a chunk of size 115, which is longer than the specified 10\n",
      "Created a chunk of size 156, which is longer than the specified 10\n",
      "Created a chunk of size 627, which is longer than the specified 10\n",
      "Created a chunk of size 203, which is longer than the specified 10\n",
      "Created a chunk of size 174, which is longer than the specified 10\n",
      "Created a chunk of size 215, which is longer than the specified 10\n",
      "Created a chunk of size 146, which is longer than the specified 10\n",
      "Created a chunk of size 176, which is longer than the specified 10\n",
      "Created a chunk of size 242, which is longer than the specified 10\n",
      "Created a chunk of size 343, which is longer than the specified 10\n",
      "Created a chunk of size 335, which is longer than the specified 10\n",
      "Created a chunk of size 229, which is longer than the specified 10\n",
      "Created a chunk of size 255, which is longer than the specified 10\n",
      "Created a chunk of size 79, which is longer than the specified 10\n",
      "Created a chunk of size 108, which is longer than the specified 10\n",
      "Created a chunk of size 145, which is longer than the specified 10\n",
      "Created a chunk of size 227, which is longer than the specified 10\n",
      "Created a chunk of size 221, which is longer than the specified 10\n",
      "Created a chunk of size 165, which is longer than the specified 10\n",
      "Created a chunk of size 669, which is longer than the specified 10\n",
      "Created a chunk of size 232, which is longer than the specified 10\n",
      "Created a chunk of size 499, which is longer than the specified 10\n",
      "Created a chunk of size 237, which is longer than the specified 10\n",
      "Created a chunk of size 341, which is longer than the specified 10\n",
      "Created a chunk of size 134, which is longer than the specified 10\n",
      "Created a chunk of size 125, which is longer than the specified 10\n",
      "Created a chunk of size 187, which is longer than the specified 10\n",
      "Created a chunk of size 165, which is longer than the specified 10\n",
      "Created a chunk of size 115, which is longer than the specified 10\n",
      "Created a chunk of size 183, which is longer than the specified 10\n",
      "Created a chunk of size 60, which is longer than the specified 10\n",
      "Created a chunk of size 134, which is longer than the specified 10\n",
      "Created a chunk of size 235, which is longer than the specified 10\n",
      "Created a chunk of size 92, which is longer than the specified 10\n",
      "Created a chunk of size 215, which is longer than the specified 10\n",
      "Created a chunk of size 115, which is longer than the specified 10\n",
      "Created a chunk of size 210, which is longer than the specified 10\n",
      "Created a chunk of size 176, which is longer than the specified 10\n",
      "Created a chunk of size 136, which is longer than the specified 10\n",
      "Created a chunk of size 178, which is longer than the specified 10\n",
      "Created a chunk of size 313, which is longer than the specified 10\n",
      "Created a chunk of size 802, which is longer than the specified 10\n",
      "Created a chunk of size 564, which is longer than the specified 10\n",
      "Created a chunk of size 159, which is longer than the specified 10\n",
      "Created a chunk of size 382, which is longer than the specified 10\n",
      "Created a chunk of size 245, which is longer than the specified 10\n",
      "Created a chunk of size 297, which is longer than the specified 10\n",
      "Created a chunk of size 293, which is longer than the specified 10\n",
      "Created a chunk of size 325, which is longer than the specified 10\n",
      "Created a chunk of size 277, which is longer than the specified 10\n",
      "Created a chunk of size 133, which is longer than the specified 10\n",
      "Created a chunk of size 188, which is longer than the specified 10\n",
      "Created a chunk of size 252, which is longer than the specified 10\n",
      "Created a chunk of size 207, which is longer than the specified 10\n",
      "Created a chunk of size 235, which is longer than the specified 10\n",
      "Created a chunk of size 152, which is longer than the specified 10\n",
      "Created a chunk of size 84, which is longer than the specified 10\n",
      "Created a chunk of size 149, which is longer than the specified 10\n",
      "Created a chunk of size 238, which is longer than the specified 10\n",
      "Created a chunk of size 302, which is longer than the specified 10\n",
      "Created a chunk of size 310, which is longer than the specified 10\n",
      "Created a chunk of size 358, which is longer than the specified 10\n",
      "Created a chunk of size 425, which is longer than the specified 10\n",
      "Created a chunk of size 178, which is longer than the specified 10\n",
      "Created a chunk of size 313, which is longer than the specified 10\n",
      "Created a chunk of size 226, which is longer than the specified 10\n",
      "Created a chunk of size 225, which is longer than the specified 10\n",
      "Created a chunk of size 97, which is longer than the specified 10\n",
      "Created a chunk of size 125, which is longer than the specified 10\n",
      "Created a chunk of size 155, which is longer than the specified 10\n",
      "Created a chunk of size 268, which is longer than the specified 10\n",
      "Created a chunk of size 119, which is longer than the specified 10\n",
      "Created a chunk of size 172, which is longer than the specified 10\n",
      "Created a chunk of size 205, which is longer than the specified 10\n",
      "Created a chunk of size 404, which is longer than the specified 10\n",
      "Created a chunk of size 62, which is longer than the specified 10\n",
      "Created a chunk of size 107, which is longer than the specified 10\n",
      "Created a chunk of size 354, which is longer than the specified 10\n",
      "Created a chunk of size 274, which is longer than the specified 10\n",
      "Created a chunk of size 134, which is longer than the specified 10\n",
      "Created a chunk of size 81, which is longer than the specified 10\n",
      "Created a chunk of size 630, which is longer than the specified 10\n",
      "Created a chunk of size 93, which is longer than the specified 10\n",
      "Created a chunk of size 195, which is longer than the specified 10\n",
      "Created a chunk of size 212, which is longer than the specified 10\n",
      "Created a chunk of size 302, which is longer than the specified 10\n",
      "Created a chunk of size 263, which is longer than the specified 10\n",
      "Created a chunk of size 249, which is longer than the specified 10\n",
      "Created a chunk of size 179, which is longer than the specified 10\n",
      "Created a chunk of size 220, which is longer than the specified 10\n",
      "Created a chunk of size 98, which is longer than the specified 10\n",
      "Created a chunk of size 245, which is longer than the specified 10\n",
      "Created a chunk of size 119, which is longer than the specified 10\n",
      "Created a chunk of size 203, which is longer than the specified 10\n",
      "Created a chunk of size 358, which is longer than the specified 10\n",
      "Created a chunk of size 573, which is longer than the specified 10\n",
      "Created a chunk of size 280, which is longer than the specified 10\n",
      "Created a chunk of size 642, which is longer than the specified 10\n",
      "Created a chunk of size 360, which is longer than the specified 10\n",
      "Created a chunk of size 553, which is longer than the specified 10\n",
      "Created a chunk of size 213, which is longer than the specified 10\n",
      "Created a chunk of size 129, which is longer than the specified 10\n",
      "Created a chunk of size 525, which is longer than the specified 10\n",
      "Created a chunk of size 165, which is longer than the specified 10\n",
      "Created a chunk of size 185, which is longer than the specified 10\n",
      "Created a chunk of size 217, which is longer than the specified 10\n",
      "Created a chunk of size 102, which is longer than the specified 10\n",
      "Created a chunk of size 745, which is longer than the specified 10\n",
      "Created a chunk of size 822, which is longer than the specified 10\n",
      "Created a chunk of size 738, which is longer than the specified 10\n",
      "Created a chunk of size 284, which is longer than the specified 10\n",
      "Created a chunk of size 124, which is longer than the specified 10\n",
      "Created a chunk of size 240, which is longer than the specified 10\n",
      "Created a chunk of size 343, which is longer than the specified 10\n",
      "Created a chunk of size 276, which is longer than the specified 10\n",
      "Created a chunk of size 112, which is longer than the specified 10\n",
      "Created a chunk of size 374, which is longer than the specified 10\n",
      "Created a chunk of size 430, which is longer than the specified 10\n",
      "Created a chunk of size 159, which is longer than the specified 10\n",
      "Created a chunk of size 393, which is longer than the specified 10\n",
      "Created a chunk of size 315, which is longer than the specified 10\n",
      "Created a chunk of size 293, which is longer than the specified 10\n",
      "Created a chunk of size 297, which is longer than the specified 10\n",
      "Created a chunk of size 671, which is longer than the specified 10\n",
      "Created a chunk of size 277, which is longer than the specified 10\n",
      "Created a chunk of size 1418, which is longer than the specified 10\n",
      "Created a chunk of size 239, which is longer than the specified 10\n",
      "Created a chunk of size 222, which is longer than the specified 10\n",
      "Created a chunk of size 79, which is longer than the specified 10\n",
      "Created a chunk of size 205, which is longer than the specified 10\n",
      "Created a chunk of size 347, which is longer than the specified 10\n",
      "Created a chunk of size 463, which is longer than the specified 10\n",
      "Created a chunk of size 186, which is longer than the specified 10\n",
      "Created a chunk of size 383, which is longer than the specified 10\n",
      "Created a chunk of size 187, which is longer than the specified 10\n",
      "Created a chunk of size 319, which is longer than the specified 10\n",
      "Created a chunk of size 299, which is longer than the specified 10\n",
      "Created a chunk of size 449, which is longer than the specified 10\n",
      "Created a chunk of size 461, which is longer than the specified 10\n",
      "Created a chunk of size 567, which is longer than the specified 10\n",
      "Created a chunk of size 199, which is longer than the specified 10\n",
      "Created a chunk of size 229, which is longer than the specified 10\n",
      "Created a chunk of size 166, which is longer than the specified 10\n",
      "Created a chunk of size 194, which is longer than the specified 10\n",
      "Created a chunk of size 319, which is longer than the specified 10\n",
      "Created a chunk of size 218, which is longer than the specified 10\n",
      "Created a chunk of size 472, which is longer than the specified 10\n",
      "Created a chunk of size 325, which is longer than the specified 10\n",
      "Created a chunk of size 111, which is longer than the specified 10\n",
      "Created a chunk of size 272, which is longer than the specified 10\n",
      "Created a chunk of size 315, which is longer than the specified 10\n",
      "Created a chunk of size 201, which is longer than the specified 10\n",
      "Created a chunk of size 201, which is longer than the specified 10\n",
      "Created a chunk of size 189, which is longer than the specified 10\n",
      "Created a chunk of size 404, which is longer than the specified 10\n",
      "Created a chunk of size 342, which is longer than the specified 10\n",
      "Created a chunk of size 193, which is longer than the specified 10\n",
      "Created a chunk of size 348, which is longer than the specified 10\n",
      "Created a chunk of size 221, which is longer than the specified 10\n",
      "Created a chunk of size 122, which is longer than the specified 10\n",
      "Created a chunk of size 146, which is longer than the specified 10\n",
      "Created a chunk of size 242, which is longer than the specified 10\n",
      "Created a chunk of size 184, which is longer than the specified 10\n",
      "Created a chunk of size 240, which is longer than the specified 10\n",
      "Created a chunk of size 221, which is longer than the specified 10\n",
      "Created a chunk of size 299, which is longer than the specified 10\n",
      "Created a chunk of size 308, which is longer than the specified 10\n",
      "Created a chunk of size 141, which is longer than the specified 10\n",
      "Created a chunk of size 115, which is longer than the specified 10\n",
      "Created a chunk of size 270, which is longer than the specified 10\n"
     ]
    }
   ],
   "source": [
    "from langchain.document_loaders import WebBaseLoader\n",
    "from langchain.text_splitter import CharacterTextSplitter\n",
    "\n",
    "loader = WebBaseLoader(\"https://aws.amazon.com/jp/ec2/faqs/\")\n",
    "data = loader.load()\n",
    "\n",
    "text_splitter = CharacterTextSplitter(\n",
    "    separator = \"Q:\",\n",
    "    keep_separator=True,\n",
    "    chunk_size = 10,\n",
    "    chunk_overlap  = 0,\n",
    ")\n",
    "\n",
    "# 先頭のいらないものを消す\n",
    "texts = text_splitter.split_documents(data)\n",
    "texts = texts[1:]\n",
    "# 末尾のいらないものを消す\n",
    "texts[-1].page_content = texts[-1].page_content.split('\\xa0')[0]\n"
   ]
  },
  {
   "cell_type": "code",
   "execution_count": 57,
   "metadata": {},
   "outputs": [],
   "source": [
    "for text in texts:\n",
    "  try:\n",
    "    lines = text.page_content.splitlines()\n",
    "    q = lines[0]\n",
    "    a = text.page_content\n",
    "\n",
    "    body = {\n",
    "      \"question\": q,\n",
    "      \"answer\": a\n",
    "    }\n",
    "\n",
    "    response = requests.post(\n",
    "      f'http://{host}:{port}/{index_name}/_doc', \n",
    "      json=body\n",
    "    )\n",
    "  except Exception as e:\n",
    "    print(e)\n"
   ]
  },
  {
   "cell_type": "markdown",
   "metadata": {},
   "source": [
    "---\n",
    "## 1. キーワード検索"
   ]
  },
  {
   "cell_type": "code",
   "execution_count": 62,
   "metadata": {},
   "outputs": [],
   "source": [
    "question = \"EC2で起動できるOSは何ですか？\"\n"
   ]
  },
  {
   "cell_type": "code",
   "execution_count": 63,
   "metadata": {},
   "outputs": [
    {
     "data": {
      "text/plain": [
       "{'took': 13,\n",
       " 'timed_out': False,\n",
       " '_shards': {'total': 1, 'successful': 1, 'skipped': 0, 'failed': 0},\n",
       " 'hits': {'total': {'value': 205, 'relation': 'eq'},\n",
       "  'max_score': 6.3473625,\n",
       "  'hits': [{'_index': 'semantic-index',\n",
       "    '_id': 'Uexnw4sBPX3Z0k6UtTW3',\n",
       "    '_score': 6.3473625,\n",
       "    '_source': {'question': 'Q: Amazon EC2 で何ができますか?',\n",
       "     'answer': 'Q: Amazon EC2 で何ができますか?\\nAmazon Simple Storage Service (Amazon S3) がクラウド内のストレージを可能とするのとまったく同様に、Amazon EC2 は、クラウド内での「コンピューティング」を可能にします。\\xa0 Amazon EC2 のシンプルなウェブサービスインターフェイスによって、手間をかけず、必要な機能を取得および設定できます。お客様のコンピューティングリソースに対して、高機能なコントロールが提供され、Amazon の実績あるインフラストラクチャ上で実行できます。Amazon EC2 では、わずか数分間で新規サーバーインスタンスを取得して起動できるようになります。これにより、コンピューティング要件の変化に合わせて、すばやく容量をスケールアップおよびスケールダウンできます。実際に使用した分のみ料金が発生するため、Amazon EC2 はコンピューティングの経済性も変革します。'}},\n",
       "   {'_index': 'semantic-index',\n",
       "    '_id': 'Sexqw4sBPX3Z0k6UmTd8',\n",
       "    '_score': 6.303764,\n",
       "    '_source': {'question': 'Q:Nitro Hypervisor では、インスタンスの再起動と終了の EC2 API リクエストがどのように実装されますか?',\n",
       "     'answer': 'Q:Nitro Hypervisor では、インスタンスの再起動と終了の EC2 API リクエストがどのように実装されますか?\\nNitro Hypervisor は、インスタンスで実行されているオペレーティングシステムに、業界標準の ACPI メソッドによって正常にシャットダウンする必要があることを通知します。ただし、Linux インスタンスの場合は、acpid がインストールされており、正常に機能している必要があります。インスタンスで acpid が機能していない場合、終了イベントは数分間遅れ、ハードリセットまたは電源オフとして実行されます。'}},\n",
       "   {'_index': 'semantic-index',\n",
       "    '_id': 'Oexqw4sBPX3Z0k6UgTd9',\n",
       "    '_score': 6.081098,\n",
       "    '_source': {'question': 'Q:「EC2 コンピューティングユニット (ECU)」とは何ですか? またそれを導入する理由は何ですか?',\n",
       "     'answer': 'Q:「EC2 コンピューティングユニット (ECU)」とは何ですか? またそれを導入する理由は何ですか?\\nユーティリティコンピューティングモデルへの移行は、デベロッパーが CPU リソースに対してこれまで持っていた考え方を根本的に変えるものです。特定のプロセッサを購入またはリースして数か月から数年間使用する代わりに、時間単位で処理能力をレンタルすることができます。Amazon EC2 は、コモディティなハードウェア上に構築されているため、EC2 インスタンスが内在する物理的なハードウェアの種類は、時間と共に異なる可能性があります。当社の目的は、実際に利用するハードウェアがどのようなものであろうと、一定量の CPU 能力を安定したかたちで供給することです。\\nAmazon EC2 は様々な手段を使用し、各インスタンスに安定した期待通りの CPU 能力を提供します。異なるインスタンスタイプ間でデベロッパーが簡単に CPU 能力値を比較できるように、Amazon EC2 コンピュートユニット (ECU) が定義されています。特定のインスタンスに配分されている CPU 量は、これらの EC2 コンピュートユニットで明示されます。当社はいくつかのベンチマークとテストを使用して、EC2 コンピュートユニットのパフォーマンスの安定性と予測可能性を管理します。EC2 コンピューティングユニット (ECU) は、Amazon EC2 インスタンスの整数処理能力を相対的に測定します。将来的に、コンピューティング性能についてお客様により明確な図を提供するメトリクスが見つかった場合には、EC2 コンピュートユニット (ECU) の定義方法が追加または交換される場合があります。'}},\n",
       "   {'_index': 'semantic-index',\n",
       "    '_id': 'nexpw4sBPX3Z0k6Ulja1',\n",
       "    '_score': 6.0681305,\n",
       "    '_source': {'question': 'Q: Amazon EC2 Fleet とは何ですか?',\n",
       "     'answer': 'Q: Amazon EC2 Fleet とは何ですか?\\nEC2 Fleet では単一の API コールで、さまざまなインスタンスタイプ、アベイラビリティーゾーン、およびオンデマンド、リザーブドインスタンス (RI)、スポットインスタンスの購入モデルにわたってコンピューティングキャパシティをプロビジョニングして、スケール、パフォーマンス、コストを最適化できます。'}},\n",
       "   {'_index': 'semantic-index',\n",
       "    '_id': 'Z-xqw4sBPX3Z0k6Uxjcf',\n",
       "    '_score': 6.0342083,\n",
       "    '_source': {'question': 'Q: OS とソフトウェアのアップデートを Apple Update Servers から直接 Mac インスタンスに適用できますか?',\n",
       "     'answer': 'Q: OS とソフトウェアのアップデートを Apple Update Servers から直接 Mac インスタンスに適用できますか?\\nEC2 Mac インスタンスでは、macOS ソフトウェアの自動アップデートは無効になっています。必要なバージョンの macOS を起動するために、公式に提供されている macOS AMI を使用することをお勧めします。x86 ベースの EC2 Mac インスタンスでは、ソフトウェアアップデート環境設定ペイン、またはソフトウェアアップデート CLI コマンドで macOS のバージョンをアップデートできます。現時点では、EC2 M1 Mac インスタンスでの macOS アップデートはサポートしていません。どちらの EC2 Mac インスタンスでも、アプリケーションやその他のユーザースペースのソフトウェアをインストールおよびアップデートすることができます。'}},\n",
       "   {'_index': 'semantic-index',\n",
       "    '_id': '9-xow4sBPX3Z0k6UrTVE',\n",
       "    '_score': 5.8552375,\n",
       "    '_source': {'question': 'Q: Amazon EC2 X2gd インスタンスとは何ですか?',\n",
       "     'answer': 'Q: Amazon EC2 X2gd インスタンスとは何ですか?\\nAmazon EC2 X2gd インスタンスは、AWS が設計した Arm ベースの AWS Graviton2 プロセッサを搭載した次世代のメモリ最適化インスタンスです。X2gd インスタンスは、x86 ベースの X1 インスタンスと比較して最大 55% 優れたコストパフォーマンスを提供し、Amazon EC2 のメモリの GiB あたりのコストを最小限に抑えます。\\xa0これらは、専有ハードウェアと Nitro Hypervisor の組み合わせである AWS Nitro System 上に構築された X インスタンスの最初のインスタンスです。'}},\n",
       "   {'_index': 'semantic-index',\n",
       "    '_id': 'd-xnw4sBPX3Z0k6U_DUh',\n",
       "    '_score': 5.8124304,\n",
       "    '_source': {'question': 'Q: EC2 UltraClusters とは何ですか? どうすればアクセスできますか?',\n",
       "     'answer': 'Q: EC2 UltraClusters とは何ですか? どうすればアクセスできますか?\\nP4d インスタンスは、EC2 UltraCluster と呼ばれるハイパースケールクラスターにデプロイされます。それぞれの EC2 UltraCluster は、4,000 を超える NVIDIA A100 Tensor Core GPU、ペタビット規模のネットワーキング、FSx for Lustre による拡張可能な低レイテンシーストレージで構成されています。それぞれの EC2 UltraCluster が、世界トップクラスのスーパーコンピューターの 1 つということになります。EC2 SuperCluster では、簡単に P4d インスタンスを起動できます。さらに支援が必要な場合は、お問い合わせください。'}},\n",
       "   {'_index': 'semantic-index',\n",
       "    '_id': 'h-xow4sBPX3Z0k6UEjVs',\n",
       "    '_score': 5.8124304,\n",
       "    '_source': {'question': 'Q: Amazon EC2 F1 とは何ですか?',\n",
       "     'answer': 'Q: Amazon EC2 F1 とは何ですか?\\nAmazon EC2 F1 は、アプリケーションの高速化に利用できる、プログラミング可能なハードウェアによるコンピューティングインスタンスです。新しい F1 インスタンスタイプは高いパフォーマンスが得られ、FPGA にアクセスしてカスタムハードウェア高速化の開発とデプロイが容易に行えます。'}},\n",
       "   {'_index': 'semantic-index',\n",
       "    '_id': '2uxow4sBPX3Z0k6UhjUH',\n",
       "    '_score': 5.8124304,\n",
       "    '_source': {'question': 'Q: EC2 High Memory インスタンスとは何ですか?',\n",
       "     'answer': 'Q: EC2 High Memory インスタンスとは何ですか?\\nAmazon EC2 High Memory インスタンスは、単一インスタンスの 3 TiB、6 TiB、9 TiB、12 TiB、18 TiB、および 24 TiB のメモリを提供します。これらのインスタンスは、クラウド内の SAP HANA 製品のインストレーションを含むラージインメモリデータベースを実行するように設計されています。 \\nEC2 High Memory インスタンスは 8 ソケットのプラットフォームを使用した 3 TiB、6 TiB、9 TiB、12 TiB のメモリを持つインスタンスで、Intel® Xeon® Platinum 8176M (Skylake) プロセッサを採用しています。18 TiB および 24 TiB のメモリを持つ EC2 High Memory インスタンスは、8 ソケットのプラットフォームを使用した最初の Amazon EC2 インスタンスで、ミッションクリティカルエンタープライズワークロードを最適化した第二世代の Intel® Xeon® Scalable (Cascade Lake) プロセッサーを採用しています。EC2 High Memory インスタンスは Amazon Elastic Network Adapter (ENA) に基づいた最大 100 Gbps の総合ネットワーク帯域幅での強化ネットワークを使用して高いネットワークスループットと低いレイテンシーを実現しています。EC2 High Memory インスタンスは、デフォルトで EBS 最適化されており、暗号化および非暗号化の EBS ボリュームをサポートします。'}},\n",
       "   {'_index': 'semantic-index',\n",
       "    '_id': 'VOxqw4sBPX3Z0k6UqTeM',\n",
       "    '_score': 5.8124304,\n",
       "    '_source': {'question': 'Q: Amazon EC2 Mac インスタンスとは何ですか?',\n",
       "     'answer': 'Q: Amazon EC2 Mac インスタンスとは何ですか?\\nAmazon EC2 Mac インスタンスにより、お客様は、クラウドでオンデマンドの macOS ワークロードを初めて実行できるようになり、すべての Apple デベロッパーが AWS の柔軟性、スケーラビリティ、およびコストメリットの恩恵を受けることができます。EC2 Mac インスタンスを使用すると、iPhone、iPad、Mac、Apple Watch、Apple TV、および Safari 用のアプリを作成するデベロッパーは、macOS 環境を数分でプロビジョニングしてアクセスし、必要に応じて容量を動的にスケールし、AWS の従量制料金の利点を享受できます。'}}]}}"
      ]
     },
     "execution_count": 63,
     "metadata": {},
     "output_type": "execute_result"
    }
   ],
   "source": [
    "body = {\n",
    "  \"_source\": {\n",
    "    \"excludes\": [\n",
    "      embedding_field\n",
    "    ]\n",
    "  },\n",
    "  \"query\": {\n",
    "    \"match\": {\n",
    "      \"question\": {\n",
    "        \"query\": question\n",
    "      }\n",
    "    }\n",
    "  }\n",
    "}\n",
    "\n",
    "response = requests.get(\n",
    "  f\"http://{host}:{port}/{index_name}/_search\", \n",
    "  json=body\n",
    "  )\n",
    "\n",
    "response.json()\n"
   ]
  },
  {
   "cell_type": "markdown",
   "metadata": {},
   "source": [
    "---\n",
    "## 2. ニューラル検索"
   ]
  },
  {
   "cell_type": "code",
   "execution_count": 64,
   "metadata": {},
   "outputs": [
    {
     "data": {
      "text/plain": [
       "{'took': 285,\n",
       " 'timed_out': False,\n",
       " '_shards': {'total': 1, 'successful': 1, 'skipped': 0, 'failed': 0},\n",
       " 'hits': {'total': {'value': 33, 'relation': 'eq'},\n",
       "  'max_score': 0.008197499,\n",
       "  'hits': [{'_index': 'semantic-index',\n",
       "    '_id': 'Uuxnw4sBPX3Z0k6UtzWJ',\n",
       "    '_score': 0.008197499,\n",
       "    '_source': {'question': 'Q: どうすれば Amazon EC2 の使用を開始できますか?',\n",
       "     'answer': 'Q: どうすれば Amazon EC2 の使用を開始できますか?\\nAmazon EC2 にサインアップするには、Amazon EC2 詳細ページ上の [このウェブサービスにサインアップ] ボタンを選択します。このサービスにアクセスするには、AWS のアカウントを保有している必要があります。これをまだ持っていない場合は、Amazon EC2 サインアッププロセスの開始時に、プロンプト画面が表示されてこれを作成することができます。サインアップの後、Amazon EC2 ドキュメントをご参照ください。ここには開始方法に関するガイドが含まれています。'}},\n",
       "   {'_index': 'semantic-index',\n",
       "    '_id': 'Uuxqw4sBPX3Z0k6Upjec',\n",
       "    '_score': 0.0077156513,\n",
       "    '_source': {'question': 'Q: 既存の Windows Server ライセンスを EC2 で使用できますか?',\n",
       "     'answer': 'Q: 既存の Windows Server ライセンスを EC2 で使用できますか?\\nはい、できます。ImportImage ツールを使用して自分の Windows Server マシンイメージをインポートした後、それらのマシンイメージから EC2 Dedicated Hosts にインスタンスを起動して、インスタンスを効果的に管理し、使用量をレポートすることができます。通常、Microsoft はソケットやコアなどの物理リソースに応じてライセンス使用量を追跡するように要求しますが、Dedicated Hosts を使用するとそれが簡単に行えます。自分の Windows Server ライセンスを Amazon EC2 Dedicated Hosts で使用する方法について詳しくは Dedicated Hosts の詳細に関するページを参照してください。'}},\n",
       "   {'_index': 'semantic-index',\n",
       "    '_id': 'Yuxqw4sBPX3Z0k6UvjfF',\n",
       "    '_score': 0.007538317,\n",
       "    '_source': {'question': 'Q: EC2 Mac インスタンスで EC2 ユーザーデータを使用するにはどうすればよいですか?',\n",
       "     'answer': 'Q: EC2 Mac インスタンスで EC2 ユーザーデータを使用するにはどうすればよいですか?\\nEC2 Linux および Windows インスタンスと同様に、EC2 Mac インスタンスにカスタムユーザーデータを渡すことができます。EC2 Mac インスタンスは、cloud-init の代わりに、オープンソースの起動デーモンである ec2-macos-init を使用します。お客様はこのデータを EC2 Launch Wizard に、プレーンテキスト、ファイル、または Base64 エンコードテキストとして渡すことができます。'}},\n",
       "   {'_index': 'semantic-index',\n",
       "    '_id': 'Vexnw4sBPX3Z0k6UvTVO',\n",
       "    '_score': 0.0075116465,\n",
       "    '_source': {'question': 'Q: Amazon EC2 環境でシステムを稼動させるにはどうすればよいですか?',\n",
       "     'answer': 'Q: Amazon EC2 環境でシステムを稼動させるにはどうすればよいですか?\\nアカウントをセットアップして AMI を選択または作成すると、インスタンスを起動する準備が整います。RunInstances API コールを使用して、任意の数のオンデマンドインスタンス上で AMI を開始できます。起動したいインスタンス数を明示するだけで完了します。\\xa0ご使用のオンデマンドのクォータを超えて実行したい場合は、「Amazon EC2 インスタンス申請フォーム」をご提出ください。\\nAmazon EC2 でリクエストが対応可能な場合、RunInstances で要求されたインスタンスの起動が開始されます。DescribeInstances API コールを使用して、インスタンスのステータスについて確認できます。また、TerminateInstances API 呼び出しを使用して、任意の数のインスタンスをプログラム的に終了することもできます。\\nAmazon EBS ブートパーティションを使用してインスタンスを実行中の場合は、StopInstances API コールを使用して、コンピュートリソースを解放しつつ、ブートパーティション上でデータを格納することもできます。Amazon EBS ブートパーティションで関連インスタンスの再起動の準備が整ったら、StartInstances API を使用できます。\\nさらに、お客様のアプリケーション利用時間が調整可能なものであれば、スポットインスタンスを使用して利用コストをさらに削減することもできます。スポットインスタンスの利用方法に、詳細な説明が記載されていますので、ぜひご覧ください。\\nご希望であれば、AWS マネジメントコンソール または当社のコマンドラインツールを使用したコマンドラインで、これらすべてのアクションを実行することもできます。これらの機能は、このウェブサービス API に実装されています。'}},\n",
       "   {'_index': 'semantic-index',\n",
       "    '_id': 'eOxpw4sBPX3Z0k6UYjaM',\n",
       "    '_score': 0.007175851,\n",
       "    '_source': {'question': 'Q: 仮想マシンを Amazon EC2 インスタンスにインポートするにはどうすればよいですか?',\n",
       "     'answer': 'Q: 仮想マシンを Amazon EC2 インスタンスにインポートするにはどうすればよいですか?\\nAmazon EC2 API ツールを使用して VM イメージをインポートすることができます。\\n\\nec2-import-instance API 経由で、VMDK、VHD、または RAW ファイルをインポートします。インスタンスのインポートタスクでは、Amazon EC2 インスタンスのプロパティ (インスタンスのサイズ、アベイラビリティーゾーン、セキュリティグループ) を適切に設定するために必要なパラメータがキャプチャされ、ディスクイメージが Amazon S3 にアップロードされます。\\nアップロードが完了する前に ec2-import-instance が中断または終了した場合は、ec2-resume-import を使ってアップロードを再開します。インポートタスクは、それが中断されたところから再開されます。\\nec2-describe-conversion-tasks コマンドを使って、インポートの進行を監視し、結果として出た Amazon EC2 インスタンス ID を取得します。\\nインポートタスクが完了すると、ec2-run-instances API にそのインスタンス ID を指定することにより、Amazon EC2 インスタンスを起動することができます。\\n最後に、ec2-delete-disk-image コマンドラインツールを使用してディスクイメージを Amazon S3 から削除します (これ以降は不要のため)。 \\n\\nまたは、VMware vSphere 仮想化プラットフォームを使用する場合は、AWS Management Portal for vCenter が提供するグラフィカルなユーザーインターフェイスを使用して、仮想マシンを Amazon EC2 にインポートできます。AWS Management Portal for vCenter の開始方法に関するガイドを参照してください。AWS Management Portal for vCenter には、VM Import の統合サポートがあります。ポータルが vCenter 内にインストールされたら、[VM] を右クリックし、[Migrate to EC2] を選択して VM から EC2 インスタンスを作成します。ポータルがユーザーに代わって、vCenter から VM をエクスポートし、S3 にアップロードし、EC2 インスタンスに変換させる処理を行います。追加の操作も必要ありません。さらに、ポータル内で VM の移行の進行状況を追跡できます。'}},\n",
       "   {'_index': 'semantic-index',\n",
       "    '_id': 'W-xnw4sBPX3Z0k6UyDWU',\n",
       "    '_score': 0.0071670655,\n",
       "    '_source': {'question': 'Q: Amazon EC2 ではいくつのインスタンスを実行できますか?',\n",
       "     'answer': 'Q: Amazon EC2 ではいくつのインスタンスを実行できますか?\\nvCPU ベースのオンデマンドインスタンスの制限ごとにオンデマンドインスタンスを実行すること、20 個のリザーブドインスタンスを購入すること、1 つのリージョンにつき動的スポット制限ごとにスポットインスタンスをリクエストすることという制限があります。新規の AWS アカウントでは、当初この上限よりも少ない数に制限されることがあります。 \\n\\n\\nそれを超えるインスタンスを必要とする場合は、お客様のユースケースを含めて「Amazon EC2 上限引き上げ申請フォーム」にご記入ください。上限の引き上げを検討いたします。上限の引き上げは、申請されたリージョンに限定されます。'}},\n",
       "   {'_index': 'semantic-index',\n",
       "    '_id': 'P-xqw4sBPX3Z0k6Uijdd',\n",
       "    '_score': 0.007142938,\n",
       "    '_source': {'question': 'Q:マイクロインスタンスで Amazon EC2 のすべての特徴を利用できますか?',\n",
       "     'answer': 'Q:マイクロインスタンスで Amazon EC2 のすべての特徴を利用できますか?\\n現在、マイクロインスタンスでは Amazon DevPay をご利用いただけません。 \\n\\n\\n\\n\\n\\n\\n\\n Nitro Hypervisor'}},\n",
       "   {'_index': 'semantic-index',\n",
       "    '_id': 'KOxqw4sBPX3Z0k6UZzcX',\n",
       "    '_score': 0.007046418,\n",
       "    '_source': {'question': 'Q: Amazon EC2 は 2 つ以上の AWS リージョンで稼動しますか?',\n",
       "     'answer': 'Q: Amazon EC2 は 2 つ以上の AWS リージョンで稼動しますか?\\nはい。Amazon の製品およびサービスがリージョンごとに提供されているかの詳細については、製品およびサービス一覧 (リージョン別) を参照してください。'}},\n",
       "   {'_index': 'semantic-index',\n",
       "    '_id': 'Uexnw4sBPX3Z0k6UtTW3',\n",
       "    '_score': 0.006941691,\n",
       "    '_source': {'question': 'Q: Amazon EC2 で何ができますか?',\n",
       "     'answer': 'Q: Amazon EC2 で何ができますか?\\nAmazon Simple Storage Service (Amazon S3) がクラウド内のストレージを可能とするのとまったく同様に、Amazon EC2 は、クラウド内での「コンピューティング」を可能にします。\\xa0 Amazon EC2 のシンプルなウェブサービスインターフェイスによって、手間をかけず、必要な機能を取得および設定できます。お客様のコンピューティングリソースに対して、高機能なコントロールが提供され、Amazon の実績あるインフラストラクチャ上で実行できます。Amazon EC2 では、わずか数分間で新規サーバーインスタンスを取得して起動できるようになります。これにより、コンピューティング要件の変化に合わせて、すばやく容量をスケールアップおよびスケールダウンできます。実際に使用した分のみ料金が発生するため、Amazon EC2 はコンピューティングの経済性も変革します。'}},\n",
       "   {'_index': 'semantic-index',\n",
       "    '_id': 'O-xqw4sBPX3Z0k6UhDdy',\n",
       "    '_score': 0.006702279,\n",
       "    '_source': {'question': 'Q: 各リージョンで利用できる Amazon EC2 インスタンスタイプを教えてください。',\n",
       "     'answer': 'Q: 各リージョンで利用できる Amazon EC2 インスタンスタイプを教えてください。\\n利用できるすべてのインスタンスおよびリージョンのリストについては、Amazon EC2 の料金を参照してください。\\n\\n\\n\\n\\n\\n\\n\\n マイクロインスタンス'}}]}}"
      ]
     },
     "execution_count": 64,
     "metadata": {},
     "output_type": "execute_result"
    }
   ],
   "source": [
    "body = {\n",
    "  \"_source\": {\n",
    "    \"excludes\": [\n",
    "      embedding_field\n",
    "    ]\n",
    "  },\n",
    "  \"query\": {\n",
    "    \"neural\": {\n",
    "      embedding_field: {\n",
    "        \"query_text\": question,\n",
    "        \"model_id\": model_id,\n",
    "      }\n",
    "    }\n",
    "  }\n",
    "}\n",
    "\n",
    "response = requests.get(\n",
    "  f\"http://{host}:{port}/{index_name}/_search\", \n",
    "  json=body\n",
    "  )\n",
    "\n",
    "response.json()\n"
   ]
  },
  {
   "cell_type": "markdown",
   "metadata": {},
   "source": [
    "---\n",
    "## 3. ハイブリッド検索\n"
   ]
  },
  {
   "cell_type": "code",
   "execution_count": 65,
   "metadata": {},
   "outputs": [
    {
     "data": {
      "text/plain": [
       "{'took': 301,\n",
       " 'timed_out': False,\n",
       " '_shards': {'total': 1, 'successful': 1, 'skipped': 0, 'failed': 0},\n",
       " 'hits': {'total': {'value': 205, 'relation': 'eq'},\n",
       "  'max_score': 6.3473625,\n",
       "  'hits': [{'_index': 'semantic-index',\n",
       "    '_id': 'Uexnw4sBPX3Z0k6UtTW3',\n",
       "    '_score': -9549511700.0,\n",
       "    '_source': {'question': 'Q: Amazon EC2 で何ができますか?',\n",
       "     'answer': 'Q: Amazon EC2 で何ができますか?\\nAmazon Simple Storage Service (Amazon S3) がクラウド内のストレージを可能とするのとまったく同様に、Amazon EC2 は、クラウド内での「コンピューティング」を可能にします。\\xa0 Amazon EC2 のシンプルなウェブサービスインターフェイスによって、手間をかけず、必要な機能を取得および設定できます。お客様のコンピューティングリソースに対して、高機能なコントロールが提供され、Amazon の実績あるインフラストラクチャ上で実行できます。Amazon EC2 では、わずか数分間で新規サーバーインスタンスを取得して起動できるようになります。これにより、コンピューティング要件の変化に合わせて、すばやく容量をスケールアップおよびスケールダウンできます。実際に使用した分のみ料金が発生するため、Amazon EC2 はコンピューティングの経済性も変革します。'}},\n",
       "   {'_index': 'semantic-index',\n",
       "    '_id': 'Uexnw4sBPX3Z0k6UtTW3',\n",
       "    '_score': -4422440400.0,\n",
       "    '_source': {'question': 'Q: Amazon EC2 で何ができますか?',\n",
       "     'answer': 'Q: Amazon EC2 で何ができますか?\\nAmazon Simple Storage Service (Amazon S3) がクラウド内のストレージを可能とするのとまったく同様に、Amazon EC2 は、クラウド内での「コンピューティング」を可能にします。\\xa0 Amazon EC2 のシンプルなウェブサービスインターフェイスによって、手間をかけず、必要な機能を取得および設定できます。お客様のコンピューティングリソースに対して、高機能なコントロールが提供され、Amazon の実績あるインフラストラクチャ上で実行できます。Amazon EC2 では、わずか数分間で新規サーバーインスタンスを取得して起動できるようになります。これにより、コンピューティング要件の変化に合わせて、すばやく容量をスケールアップおよびスケールダウンできます。実際に使用した分のみ料金が発生するため、Amazon EC2 はコンピューティングの経済性も変革します。'}},\n",
       "   {'_index': 'semantic-index',\n",
       "    '_id': 'Uexnw4sBPX3Z0k6UtTW3',\n",
       "    '_score': 6.3473625,\n",
       "    '_source': {'question': 'Q: Amazon EC2 で何ができますか?',\n",
       "     'answer': 'Q: Amazon EC2 で何ができますか?\\nAmazon Simple Storage Service (Amazon S3) がクラウド内のストレージを可能とするのとまったく同様に、Amazon EC2 は、クラウド内での「コンピューティング」を可能にします。\\xa0 Amazon EC2 のシンプルなウェブサービスインターフェイスによって、手間をかけず、必要な機能を取得および設定できます。お客様のコンピューティングリソースに対して、高機能なコントロールが提供され、Amazon の実績あるインフラストラクチャ上で実行できます。Amazon EC2 では、わずか数分間で新規サーバーインスタンスを取得して起動できるようになります。これにより、コンピューティング要件の変化に合わせて、すばやく容量をスケールアップおよびスケールダウンできます。実際に使用した分のみ料金が発生するため、Amazon EC2 はコンピューティングの経済性も変革します。'}},\n",
       "   {'_index': 'semantic-index',\n",
       "    '_id': 'Sexqw4sBPX3Z0k6UmTd8',\n",
       "    '_score': 6.303764,\n",
       "    '_source': {'question': 'Q:Nitro Hypervisor では、インスタンスの再起動と終了の EC2 API リクエストがどのように実装されますか?',\n",
       "     'answer': 'Q:Nitro Hypervisor では、インスタンスの再起動と終了の EC2 API リクエストがどのように実装されますか?\\nNitro Hypervisor は、インスタンスで実行されているオペレーティングシステムに、業界標準の ACPI メソッドによって正常にシャットダウンする必要があることを通知します。ただし、Linux インスタンスの場合は、acpid がインストールされており、正常に機能している必要があります。インスタンスで acpid が機能していない場合、終了イベントは数分間遅れ、ハードリセットまたは電源オフとして実行されます。'}},\n",
       "   {'_index': 'semantic-index',\n",
       "    '_id': 'Oexqw4sBPX3Z0k6UgTd9',\n",
       "    '_score': 6.081098,\n",
       "    '_source': {'question': 'Q:「EC2 コンピューティングユニット (ECU)」とは何ですか? またそれを導入する理由は何ですか?',\n",
       "     'answer': 'Q:「EC2 コンピューティングユニット (ECU)」とは何ですか? またそれを導入する理由は何ですか?\\nユーティリティコンピューティングモデルへの移行は、デベロッパーが CPU リソースに対してこれまで持っていた考え方を根本的に変えるものです。特定のプロセッサを購入またはリースして数か月から数年間使用する代わりに、時間単位で処理能力をレンタルすることができます。Amazon EC2 は、コモディティなハードウェア上に構築されているため、EC2 インスタンスが内在する物理的なハードウェアの種類は、時間と共に異なる可能性があります。当社の目的は、実際に利用するハードウェアがどのようなものであろうと、一定量の CPU 能力を安定したかたちで供給することです。\\nAmazon EC2 は様々な手段を使用し、各インスタンスに安定した期待通りの CPU 能力を提供します。異なるインスタンスタイプ間でデベロッパーが簡単に CPU 能力値を比較できるように、Amazon EC2 コンピュートユニット (ECU) が定義されています。特定のインスタンスに配分されている CPU 量は、これらの EC2 コンピュートユニットで明示されます。当社はいくつかのベンチマークとテストを使用して、EC2 コンピュートユニットのパフォーマンスの安定性と予測可能性を管理します。EC2 コンピューティングユニット (ECU) は、Amazon EC2 インスタンスの整数処理能力を相対的に測定します。将来的に、コンピューティング性能についてお客様により明確な図を提供するメトリクスが見つかった場合には、EC2 コンピュートユニット (ECU) の定義方法が追加または交換される場合があります。'}},\n",
       "   {'_index': 'semantic-index',\n",
       "    '_id': 'nexpw4sBPX3Z0k6Ulja1',\n",
       "    '_score': 6.0681305,\n",
       "    '_source': {'question': 'Q: Amazon EC2 Fleet とは何ですか?',\n",
       "     'answer': 'Q: Amazon EC2 Fleet とは何ですか?\\nEC2 Fleet では単一の API コールで、さまざまなインスタンスタイプ、アベイラビリティーゾーン、およびオンデマンド、リザーブドインスタンス (RI)、スポットインスタンスの購入モデルにわたってコンピューティングキャパシティをプロビジョニングして、スケール、パフォーマンス、コストを最適化できます。'}},\n",
       "   {'_index': 'semantic-index',\n",
       "    '_id': 'Z-xqw4sBPX3Z0k6Uxjcf',\n",
       "    '_score': 6.0342083,\n",
       "    '_source': {'question': 'Q: OS とソフトウェアのアップデートを Apple Update Servers から直接 Mac インスタンスに適用できますか?',\n",
       "     'answer': 'Q: OS とソフトウェアのアップデートを Apple Update Servers から直接 Mac インスタンスに適用できますか?\\nEC2 Mac インスタンスでは、macOS ソフトウェアの自動アップデートは無効になっています。必要なバージョンの macOS を起動するために、公式に提供されている macOS AMI を使用することをお勧めします。x86 ベースの EC2 Mac インスタンスでは、ソフトウェアアップデート環境設定ペイン、またはソフトウェアアップデート CLI コマンドで macOS のバージョンをアップデートできます。現時点では、EC2 M1 Mac インスタンスでの macOS アップデートはサポートしていません。どちらの EC2 Mac インスタンスでも、アプリケーションやその他のユーザースペースのソフトウェアをインストールおよびアップデートすることができます。'}},\n",
       "   {'_index': 'semantic-index',\n",
       "    '_id': '9-xow4sBPX3Z0k6UrTVE',\n",
       "    '_score': 5.8552375,\n",
       "    '_source': {'question': 'Q: Amazon EC2 X2gd インスタンスとは何ですか?',\n",
       "     'answer': 'Q: Amazon EC2 X2gd インスタンスとは何ですか?\\nAmazon EC2 X2gd インスタンスは、AWS が設計した Arm ベースの AWS Graviton2 プロセッサを搭載した次世代のメモリ最適化インスタンスです。X2gd インスタンスは、x86 ベースの X1 インスタンスと比較して最大 55% 優れたコストパフォーマンスを提供し、Amazon EC2 のメモリの GiB あたりのコストを最小限に抑えます。\\xa0これらは、専有ハードウェアと Nitro Hypervisor の組み合わせである AWS Nitro System 上に構築された X インスタンスの最初のインスタンスです。'}},\n",
       "   {'_index': 'semantic-index',\n",
       "    '_id': 'd-xnw4sBPX3Z0k6U_DUh',\n",
       "    '_score': 5.8124304,\n",
       "    '_source': {'question': 'Q: EC2 UltraClusters とは何ですか? どうすればアクセスできますか?',\n",
       "     'answer': 'Q: EC2 UltraClusters とは何ですか? どうすればアクセスできますか?\\nP4d インスタンスは、EC2 UltraCluster と呼ばれるハイパースケールクラスターにデプロイされます。それぞれの EC2 UltraCluster は、4,000 を超える NVIDIA A100 Tensor Core GPU、ペタビット規模のネットワーキング、FSx for Lustre による拡張可能な低レイテンシーストレージで構成されています。それぞれの EC2 UltraCluster が、世界トップクラスのスーパーコンピューターの 1 つということになります。EC2 SuperCluster では、簡単に P4d インスタンスを起動できます。さらに支援が必要な場合は、お問い合わせください。'}},\n",
       "   {'_index': 'semantic-index',\n",
       "    '_id': 'h-xow4sBPX3Z0k6UEjVs',\n",
       "    '_score': 5.8124304,\n",
       "    '_source': {'question': 'Q: Amazon EC2 F1 とは何ですか?',\n",
       "     'answer': 'Q: Amazon EC2 F1 とは何ですか?\\nAmazon EC2 F1 は、アプリケーションの高速化に利用できる、プログラミング可能なハードウェアによるコンピューティングインスタンスです。新しい F1 インスタンスタイプは高いパフォーマンスが得られ、FPGA にアクセスしてカスタムハードウェア高速化の開発とデプロイが容易に行えます。'}}]}}"
      ]
     },
     "execution_count": 65,
     "metadata": {},
     "output_type": "execute_result"
    }
   ],
   "source": [
    "body = {\n",
    "  \"_source\": {\n",
    "    \"excludes\": [\n",
    "      \"passage_embedding\"\n",
    "    ]\n",
    "  },\n",
    "  \"query\": {\n",
    "    \"hybrid\": {\n",
    "      \"queries\": [\n",
    "        {\n",
    "          \"match\": {\n",
    "            \"question\": {\n",
    "              \"query\": question\n",
    "            }\n",
    "          }\n",
    "        },\n",
    "        {\n",
    "          \"neural\": {\n",
    "            \"passage_embedding\": {\n",
    "              \"query_text\": question,\n",
    "              \"model_id\": model_id,\n",
    "            }\n",
    "          }\n",
    "        }\n",
    "      ]\n",
    "    }\n",
    "\n",
    "  }\n",
    "}\n",
    "\n",
    "response = requests.get(\n",
    "  f\"http://{host}:{port}/{index_name}/_search\", \n",
    "  json=body\n",
    "  )\n",
    "\n",
    "response.json()\n"
   ]
  },
  {
   "cell_type": "markdown",
   "metadata": {},
   "source": [
    "---\n",
    "## クリーンアップ"
   ]
  },
  {
   "cell_type": "markdown",
   "metadata": {},
   "source": [
    "* インデックス削除"
   ]
  },
  {
   "cell_type": "code",
   "execution_count": 55,
   "metadata": {},
   "outputs": [
    {
     "data": {
      "text/plain": [
       "{'acknowledged': True}"
      ]
     },
     "execution_count": 55,
     "metadata": {},
     "output_type": "execute_result"
    }
   ],
   "source": [
    "response = requests.delete(\n",
    "  f\"http://{host}:{port}/{index_name}\", \n",
    "  )\n",
    "\n",
    "response.json()\n"
   ]
  }
 ],
 "metadata": {
  "kernelspec": {
   "display_name": "Python 3",
   "language": "python",
   "name": "python3"
  },
  "language_info": {
   "codemirror_mode": {
    "name": "ipython",
    "version": 3
   },
   "file_extension": ".py",
   "mimetype": "text/x-python",
   "name": "python",
   "nbconvert_exporter": "python",
   "pygments_lexer": "ipython3",
   "version": "3.10.12"
  }
 },
 "nbformat": 4,
 "nbformat_minor": 2
}
